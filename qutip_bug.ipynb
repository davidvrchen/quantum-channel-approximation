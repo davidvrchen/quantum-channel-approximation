{
 "cells": [
  {
   "cell_type": "markdown",
   "metadata": {},
   "source": [
    "This file has some code to reproduce a seeding error I found in qutip, see the [github issue](https://github.com/qutip/qutip/issues/2438) for details."
   ]
  },
  {
   "cell_type": "markdown",
   "metadata": {},
   "source": [
    "Turns out this bug was already fixed, need to upgrade to qutip 5"
   ]
  },
  {
   "cell_type": "code",
   "execution_count": 3,
   "metadata": {},
   "outputs": [
    {
     "name": "stdout",
     "output_type": "stream",
     "text": [
      "Quantum object: dims=[[2], [1]], shape=(2, 1), type='ket', dtype=Dense\n",
      "Qobj data =\n",
      "[[0.11792834-0.40248349j]\n",
      " [0.48908207+0.76478669j]]\n",
      "[0.69533013 0.13115044 0.25852019 0.88245895 0.37052846]\n",
      "Quantum object: dims=[[2], [1]], shape=(2, 1), type='ket', dtype=Dense\n",
      "Qobj data =\n",
      "[[0.11792834-0.40248349j]\n",
      " [0.48908207+0.76478669j]]\n",
      "[0.20114674 0.72448005 0.49795853 0.58571802 0.03195722]\n",
      "False\n"
     ]
    }
   ],
   "source": [
    "import qutip as qt\n",
    "import numpy as np\n",
    "\n",
    "print(qt.rand_ket(2, seed=42, distribution=\"haar\"))\n",
    "print(x1:=np.random.rand(5))\n",
    "print(qt.rand_ket(2, seed=42, distribution=\"haar\"))\n",
    "print(x2:=np.random.rand(5))\n",
    "\n",
    "print((x1==x2).all())"
   ]
  },
  {
   "cell_type": "code",
   "execution_count": 4,
   "metadata": {},
   "outputs": [
    {
     "name": "stdout",
     "output_type": "stream",
     "text": [
      "\n",
      "QuTiP: Quantum Toolbox in Python\n",
      "================================\n",
      "Copyright (c) QuTiP team 2011 and later.\n",
      "Current admin team: Alexander Pitchford, Nathan Shammah, Shahnawaz Ahmed, Neill Lambert, Eric Giguère, Boxi Li, Jake Lishman, Simon Cross and Asier Galicia.\n",
      "Board members: Daniel Burgarth, Robert Johansson, Anton F. Kockum, Franco Nori and Will Zeng.\n",
      "Original developers: R. J. Johansson & P. D. Nation.\n",
      "Previous lead developers: Chris Granade & A. Grimsmo.\n",
      "Currently developed through wide collaboration. See https://github.com/qutip for details.\n",
      "\n",
      "QuTiP Version:      5.0.2\n",
      "Numpy Version:      1.24.3\n",
      "Scipy Version:      1.12.0\n",
      "Cython Version:     None\n",
      "Matplotlib Version: 3.8.3\n",
      "Python Version:     3.11.5\n",
      "Number of CPUs:     6\n",
      "BLAS Info:          OPENBLAS\n",
      "INTEL MKL Ext:      False\n",
      "Platform Info:      Windows (AMD64)\n",
      "Installation path:  c:\\Users\\Admin\\Desktop\\BFP\\quantum-channel-approximation\\venv\\Lib\\site-packages\\qutip\n",
      "================================================================================\n",
      "Please cite QuTiP in your publication.\n",
      "================================================================================\n",
      "For your convenience a bibtex reference can be easily generated using `qutip.cite()`\n"
     ]
    }
   ],
   "source": [
    "qt.about()"
   ]
  }
 ],
 "metadata": {
  "kernelspec": {
   "display_name": "venv",
   "language": "python",
   "name": "python3"
  },
  "language_info": {
   "codemirror_mode": {
    "name": "ipython",
    "version": 3
   },
   "file_extension": ".py",
   "mimetype": "text/x-python",
   "name": "python",
   "nbconvert_exporter": "python",
   "pygments_lexer": "ipython3",
   "version": "3.11.5"
  }
 },
 "nbformat": 4,
 "nbformat_minor": 2
}
