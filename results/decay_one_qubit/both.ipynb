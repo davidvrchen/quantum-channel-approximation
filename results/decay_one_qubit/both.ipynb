{
 "cells": [
  {
   "cell_type": "code",
   "execution_count": 1,
   "metadata": {},
   "outputs": [
    {
     "name": "stdout",
     "output_type": "stream",
     "text": [
      "random_rho0s: setting seed=94277\n"
     ]
    }
   ],
   "source": [
    "from settings import *\n"
   ]
  },
  {
   "cell_type": "code",
   "execution_count": 2,
   "metadata": {},
   "outputs": [],
   "source": [
    "qubits = TriangularLayoutAB(m=1, cutoff=1, distance=0.9)\n",
    "operations = [(\"rz\", \"AB\"), (\"rx\", \"AB\"), (\"rz\", \"AB\"), (\"ryd ent\", \"\")]\n",
    "circuit = unitary_circuit_fac(qubits, operations, repeats=1, depth=10)"
   ]
  },
  {
   "cell_type": "code",
   "execution_count": 3,
   "metadata": {},
   "outputs": [
    {
     "data": {
      "text/plain": [
       "<Axes: title={'center': 'Qubit layout'}>"
      ]
     },
     "execution_count": 3,
     "metadata": {},
     "output_type": "execute_result"
    },
    {
     "data": {
      "image/png": "[encoded data removed]",
      "text/plain": [
       "<Figure size 640x480 with 1 Axes>"
      ]
     },
     "metadata": {},
     "output_type": "display_data"
    }
   ],
   "source": [
    "qubits.show_layout()"
   ]
  },
  {
   "cell_type": "code",
   "execution_count": 4,
   "metadata": {},
   "outputs": [
    {
     "data": {
      "text/plain": [
       "[GateConnection(id1=0, id2=1, d=0.9),\n",
       " GateConnection(id1=0, id2=2, d=0.9),\n",
       " GateConnection(id1=1, id2=2, d=0.9)]"
      ]
     },
     "execution_count": 4,
     "metadata": {},
     "output_type": "execute_result"
    }
   ],
   "source": [
    "qubits.gate_connections"
   ]
  },
  {
   "cell_type": "code",
   "execution_count": 5,
   "metadata": {},
   "outputs": [
    {
     "name": "stdout",
     "output_type": "stream",
     "text": [
      "optimizer (optimization indices): setting seed=99612\n"
     ]
    },
    {
     "name": "stderr",
     "output_type": "stream",
     "text": [
      "C:\\BFP\\quantum-channel-approximation\\q_channel_approx\\optimizer.py:193: ComplexWarning: Casting complex values to real discards the imaginary part\n",
      "  errors[i] = error\n"
     ]
    },
    {
     "name": "stdout",
     "output_type": "stream",
     "text": [
      "Iteration: 0 \n",
      "            Max gradient term: 0.08081310012300613 \n",
      "            Current gradient: [ 0.          0.          0.          0.          0.          0.\n",
      "  0.          0.          0.          0.          0.          0.\n",
      "  0.          0.          0.          0.          0.          0.\n",
      "  0.          0.          0.          0.          0.          0.\n",
      "  0.          0.          0.05006847  0.          0.          0.\n",
      "  0.          0.          0.          0.          0.          0.\n",
      "  0.          0.          0.          0.          0.          0.\n",
      "  0.          0.          0.          0.          0.          0.\n",
      " -0.01721427  0.          0.          0.         -0.01721427  0.\n",
      "  0.          0.          0.          0.         -0.01172186  0.\n",
      "  0.          0.          0.          0.          0.          0.\n",
      "  0.0808131   0.          0.          0.          0.          0.\n",
      " -0.00445038  0.          0.          0.          0.          0.00085353\n",
      "  0.          0.          0.          0.          0.          0.05368772\n",
      "  0.          0.          0.          0.          0.         -0.06159522\n",
      "  0.          0.          0.          0.04084094  0.          0.\n",
      "  0.          0.          0.          0.        ] \n",
      "            Current error: 0.17301895133705358 \n",
      "            Current sigma values: (0, 1, 10)\n",
      "Iteration: 10 \n",
      "            Max gradient term: 0.006834089676371197 \n",
      "            Current gradient: [ 0.          0.          0.          0.          0.         -0.00765677\n",
      " -0.01177054  0.          0.          0.          0.          0.\n",
      "  0.          0.          0.          0.          0.          0.\n",
      " -0.01153669  0.          0.          0.          0.          0.\n",
      "  0.          0.          0.          0.         -0.01521287  0.\n",
      " -0.01268594  0.          0.          0.          0.          0.\n",
      "  0.          0.          0.          0.          0.          0.\n",
      "  0.          0.          0.          0.          0.          0.\n",
      "  0.          0.          0.          0.          0.          0.\n",
      "  0.          0.          0.          0.          0.          0.\n",
      "  0.          0.          0.          0.          0.         -0.00252758\n",
      "  0.          0.          0.          0.          0.          0.\n",
      " -0.00807842  0.          0.          0.          0.          0.\n",
      "  0.          0.          0.          0.          0.         -0.00671558\n",
      "  0.          0.          0.          0.          0.          0.00683409\n",
      "  0.          0.          0.          0.          0.          0.\n",
      " -0.01406477  0.          0.          0.        ] \n",
      "            Current error: 0.010793240704611858 \n",
      "            Current sigma values: (2, 0, 20.0)\n",
      "Iteration: 20 \n",
      "            Max gradient term: 0.0027884901462914887 \n",
      "            Current gradient: [ 0.00000000e+00  9.75781955e-15  0.00000000e+00  0.00000000e+00\n",
      "  0.00000000e+00  0.00000000e+00  0.00000000e+00  0.00000000e+00\n",
      "  0.00000000e+00  0.00000000e+00  0.00000000e+00  0.00000000e+00\n",
      "  0.00000000e+00  0.00000000e+00  0.00000000e+00  0.00000000e+00\n",
      "  0.00000000e+00  0.00000000e+00  0.00000000e+00  0.00000000e+00\n",
      "  0.00000000e+00  0.00000000e+00  0.00000000e+00  0.00000000e+00\n",
      "  0.00000000e+00  1.27461208e-03  0.00000000e+00  0.00000000e+00\n",
      " -1.78019603e-03  0.00000000e+00  0.00000000e+00  0.00000000e+00\n",
      "  0.00000000e+00  0.00000000e+00  0.00000000e+00  0.00000000e+00\n",
      "  0.00000000e+00 -1.86268800e-03  0.00000000e+00  0.00000000e+00\n",
      "  0.00000000e+00  0.00000000e+00  0.00000000e+00  0.00000000e+00\n",
      "  0.00000000e+00  0.00000000e+00  0.00000000e+00 -1.05838790e-03\n",
      "  0.00000000e+00  0.00000000e+00  0.00000000e+00  0.00000000e+00\n",
      "  0.00000000e+00  2.78849015e-03  0.00000000e+00  0.00000000e+00\n",
      "  0.00000000e+00  0.00000000e+00  0.00000000e+00  0.00000000e+00\n",
      "  0.00000000e+00  0.00000000e+00  0.00000000e+00  0.00000000e+00\n",
      "  0.00000000e+00  0.00000000e+00  0.00000000e+00  0.00000000e+00\n",
      "  0.00000000e+00  0.00000000e+00  0.00000000e+00  0.00000000e+00\n",
      "  0.00000000e+00  0.00000000e+00  1.27360199e-03  0.00000000e+00\n",
      "  0.00000000e+00  0.00000000e+00  0.00000000e+00  0.00000000e+00\n",
      "  0.00000000e+00 -3.91286344e-04  0.00000000e+00 -2.05772650e-03\n",
      "  0.00000000e+00  0.00000000e+00  0.00000000e+00  0.00000000e+00\n",
      "  0.00000000e+00  0.00000000e+00  0.00000000e+00  0.00000000e+00\n",
      "  0.00000000e+00  0.00000000e+00  0.00000000e+00  0.00000000e+00\n",
      "  0.00000000e+00  0.00000000e+00 -8.67361738e-15  0.00000000e+00] \n",
      "            Current error: 0.0017217122743093353 \n",
      "            Current sigma values: (1, 2, 10.0)\n",
      "Iteration: 30 \n",
      "            Max gradient term: 0.0005845879660730524 \n",
      "            Current gradient: [ 0.          0.          0.          0.         -0.0005259   0.\n",
      "  0.          0.          0.          0.          0.          0.\n",
      "  0.          0.          0.          0.          0.          0.\n",
      "  0.          0.          0.          0.         -0.00052102  0.\n",
      "  0.          0.         -0.00048061  0.          0.          0.\n",
      "  0.          0.          0.          0.          0.          0.\n",
      " -0.00095436  0.          0.          0.          0.          0.\n",
      "  0.          0.          0.00058459  0.          0.          0.\n",
      "  0.          0.          0.          0.         -0.00134522  0.\n",
      "  0.          0.          0.          0.          0.          0.\n",
      "  0.          0.          0.          0.          0.          0.\n",
      "  0.         -0.00068419  0.          0.         -0.00244797  0.\n",
      "  0.          0.          0.          0.          0.          0.\n",
      "  0.          0.          0.          0.          0.          0.\n",
      "  0.          0.00053604  0.          0.         -0.0002093   0.\n",
      "  0.          0.          0.          0.          0.          0.\n",
      "  0.          0.          0.          0.        ] \n",
      "            Current error: 0.0011177306405770904 \n",
      "            Current sigma values: (1, 3, 5.0)\n",
      "Iteration: 40 \n",
      "            Max gradient term: 0.0006114574347575782 \n",
      "            Current gradient: [ 0.          0.          0.          0.          0.          0.\n",
      "  0.          0.          0.         -0.00105933  0.          0.\n",
      "  0.          0.          0.          0.          0.          0.\n",
      "  0.          0.          0.          0.          0.          0.\n",
      "  0.          0.00061146  0.          0.          0.         -0.00407314\n",
      "  0.          0.          0.          0.          0.          0.00053303\n",
      "  0.          0.          0.          0.          0.         -0.00014627\n",
      "  0.00014967  0.          0.00018491  0.          0.          0.\n",
      "  0.          0.          0.          0.          0.          0.\n",
      "  0.          0.          0.          0.00036195  0.          0.\n",
      "  0.          0.          0.          0.          0.          0.\n",
      "  0.          0.00030021  0.          0.          0.          0.\n",
      "  0.          0.          0.          0.          0.          0.\n",
      "  0.00018789  0.          0.          0.          0.          0.\n",
      "  0.          0.          0.          0.          0.          0.\n",
      "  0.          0.          0.          0.          0.          0.\n",
      "  0.          0.          0.          0.        ] \n",
      "            Current error: 0.0008523429942167007 \n",
      "            Current sigma values: (2, 3, 10.0)\n",
      "Iteration: 50 \n",
      "            Max gradient term: 0.0018324852711756792 \n",
      "            Current gradient: [ 0.00000000e+00  0.00000000e+00  1.68051337e-14  0.00000000e+00\n",
      " -5.18435593e-04  0.00000000e+00  0.00000000e+00  0.00000000e+00\n",
      "  0.00000000e+00  0.00000000e+00  0.00000000e+00  0.00000000e+00\n",
      "  0.00000000e+00  0.00000000e+00  0.00000000e+00  0.00000000e+00\n",
      "  0.00000000e+00  0.00000000e+00 -3.82654874e-04  0.00000000e+00\n",
      "  0.00000000e+00  0.00000000e+00  0.00000000e+00  0.00000000e+00\n",
      "  0.00000000e+00  0.00000000e+00  0.00000000e+00  0.00000000e+00\n",
      "  0.00000000e+00  0.00000000e+00  0.00000000e+00  0.00000000e+00\n",
      "  0.00000000e+00 -2.87987264e-04  0.00000000e+00  0.00000000e+00\n",
      "  0.00000000e+00  0.00000000e+00  0.00000000e+00  0.00000000e+00\n",
      " -1.12611116e-03  0.00000000e+00  0.00000000e+00  0.00000000e+00\n",
      "  0.00000000e+00  4.01350249e-04  0.00000000e+00  0.00000000e+00\n",
      "  0.00000000e+00  0.00000000e+00  0.00000000e+00 -7.01813866e-04\n",
      "  0.00000000e+00  0.00000000e+00  0.00000000e+00  0.00000000e+00\n",
      "  0.00000000e+00  0.00000000e+00  0.00000000e+00  0.00000000e+00\n",
      "  0.00000000e+00  0.00000000e+00  0.00000000e+00  0.00000000e+00\n",
      "  0.00000000e+00  0.00000000e+00  0.00000000e+00  0.00000000e+00\n",
      "  0.00000000e+00  1.83248527e-03  0.00000000e+00  0.00000000e+00\n",
      "  0.00000000e+00  0.00000000e+00  0.00000000e+00  0.00000000e+00\n",
      "  0.00000000e+00  0.00000000e+00  0.00000000e+00  1.42062785e-03\n",
      "  0.00000000e+00  0.00000000e+00  0.00000000e+00  0.00000000e+00\n",
      "  0.00000000e+00  0.00000000e+00  0.00000000e+00  0.00000000e+00\n",
      "  0.00000000e+00  0.00000000e+00  0.00000000e+00  0.00000000e+00\n",
      "  0.00000000e+00  0.00000000e+00  0.00000000e+00  0.00000000e+00\n",
      "  0.00000000e+00  5.42101086e-15  0.00000000e+00  0.00000000e+00] \n",
      "            Current error: 0.0005927408927416254 \n",
      "            Current sigma values: (1, 2, 10.0)\n",
      "Iteration: 60 \n",
      "            Max gradient term: 0.001966441456836745 \n",
      "            Current gradient: [ 0.00000000e+00  0.00000000e+00  0.00000000e+00  0.00000000e+00\n",
      "  0.00000000e+00  0.00000000e+00  0.00000000e+00 -2.77565835e-04\n",
      "  3.96721581e-05  0.00000000e+00  0.00000000e+00  0.00000000e+00\n",
      "  0.00000000e+00  0.00000000e+00  0.00000000e+00  0.00000000e+00\n",
      "  0.00000000e+00  0.00000000e+00  0.00000000e+00  0.00000000e+00\n",
      "  0.00000000e+00  0.00000000e+00  0.00000000e+00  0.00000000e+00\n",
      "  0.00000000e+00  0.00000000e+00  1.96644146e-03  0.00000000e+00\n",
      "  0.00000000e+00  0.00000000e+00  1.96644146e-03  0.00000000e+00\n",
      "  0.00000000e+00  0.00000000e+00  0.00000000e+00  0.00000000e+00\n",
      "  0.00000000e+00  0.00000000e+00  2.63698371e-04  0.00000000e+00\n",
      "  0.00000000e+00  0.00000000e+00  0.00000000e+00  0.00000000e+00\n",
      "  0.00000000e+00  0.00000000e+00  0.00000000e+00  0.00000000e+00\n",
      "  0.00000000e+00  0.00000000e+00  0.00000000e+00  0.00000000e+00\n",
      "  2.92229309e-04  0.00000000e+00  0.00000000e+00  0.00000000e+00\n",
      "  0.00000000e+00  0.00000000e+00  8.71008529e-05  0.00000000e+00\n",
      "  0.00000000e+00  0.00000000e+00  0.00000000e+00  0.00000000e+00\n",
      "  0.00000000e+00  0.00000000e+00  0.00000000e+00  0.00000000e+00\n",
      "  0.00000000e+00  0.00000000e+00  0.00000000e+00  0.00000000e+00\n",
      "  0.00000000e+00  6.32096718e-04  0.00000000e+00  0.00000000e+00\n",
      " -8.41200647e-05  0.00000000e+00  0.00000000e+00  0.00000000e+00\n",
      "  0.00000000e+00  0.00000000e+00  0.00000000e+00  0.00000000e+00\n",
      "  0.00000000e+00  0.00000000e+00  0.00000000e+00  0.00000000e+00\n",
      "  0.00000000e+00  0.00000000e+00  0.00000000e+00  0.00000000e+00\n",
      "  0.00000000e+00  0.00000000e+00  0.00000000e+00  0.00000000e+00\n",
      "  0.00000000e+00  0.00000000e+00  5.14996032e-15  0.00000000e+00] \n",
      "            Current error: 0.0004526992473147157 \n",
      "            Current sigma values: (2, 2, 20.0)\n",
      "Iteration: 70 \n",
      "            Max gradient term: 0.00018316763189692425 \n",
      "            Current gradient: [ 0.00000000e+00  0.00000000e+00  0.00000000e+00 -2.49431450e-04\n",
      "  0.00000000e+00  0.00000000e+00  1.83167632e-04 -3.56592140e-04\n",
      "  0.00000000e+00  0.00000000e+00  0.00000000e+00  0.00000000e+00\n",
      "  0.00000000e+00 -5.37294152e-04  0.00000000e+00  0.00000000e+00\n",
      "  0.00000000e+00  0.00000000e+00  0.00000000e+00  0.00000000e+00\n",
      "  0.00000000e+00  0.00000000e+00  0.00000000e+00  0.00000000e+00\n",
      "  0.00000000e+00  0.00000000e+00  0.00000000e+00  0.00000000e+00\n",
      "  0.00000000e+00  0.00000000e+00  0.00000000e+00  0.00000000e+00\n",
      "  0.00000000e+00  0.00000000e+00  0.00000000e+00  0.00000000e+00\n",
      "  0.00000000e+00  0.00000000e+00  0.00000000e+00  0.00000000e+00\n",
      "  0.00000000e+00  0.00000000e+00  0.00000000e+00  0.00000000e+00\n",
      "  0.00000000e+00  0.00000000e+00  0.00000000e+00  0.00000000e+00\n",
      " -1.67578920e-04  0.00000000e+00  0.00000000e+00 -1.63052683e-04\n",
      "  0.00000000e+00  0.00000000e+00  0.00000000e+00  0.00000000e+00\n",
      "  0.00000000e+00  0.00000000e+00  0.00000000e+00  0.00000000e+00\n",
      "  0.00000000e+00 -9.44926502e-05  0.00000000e+00  0.00000000e+00\n",
      "  0.00000000e+00  0.00000000e+00  0.00000000e+00  0.00000000e+00\n",
      "  0.00000000e+00  0.00000000e+00  0.00000000e+00 -7.84462765e-05\n",
      "  0.00000000e+00  0.00000000e+00  0.00000000e+00  0.00000000e+00\n",
      "  0.00000000e+00 -8.13519299e-05  0.00000000e+00  0.00000000e+00\n",
      "  0.00000000e+00  0.00000000e+00  0.00000000e+00  0.00000000e+00\n",
      "  0.00000000e+00  0.00000000e+00  0.00000000e+00  0.00000000e+00\n",
      "  0.00000000e+00  0.00000000e+00  0.00000000e+00  0.00000000e+00\n",
      " -6.94498082e-05  0.00000000e+00  0.00000000e+00  0.00000000e+00\n",
      "  0.00000000e+00  0.00000000e+00  0.00000000e+00  0.00000000e+00] \n",
      "            Current error: 0.00033989695181130155 \n",
      "            Current sigma values: (1, 1, 20.0)\n",
      "Iteration: 80 \n",
      "            Max gradient term: 0.0007697856874616703 \n",
      "            Current gradient: [ 0.00000000e+00  0.00000000e+00  0.00000000e+00  0.00000000e+00\n",
      "  0.00000000e+00  0.00000000e+00  0.00000000e+00  0.00000000e+00\n",
      "  0.00000000e+00  0.00000000e+00  0.00000000e+00  0.00000000e+00\n",
      "  0.00000000e+00  0.00000000e+00  1.43698830e-04  0.00000000e+00\n",
      "  0.00000000e+00  0.00000000e+00 -2.12340188e-04  0.00000000e+00\n",
      "  0.00000000e+00  0.00000000e+00  0.00000000e+00  0.00000000e+00\n",
      "  0.00000000e+00  0.00000000e+00  0.00000000e+00  0.00000000e+00\n",
      "  0.00000000e+00  0.00000000e+00  4.31382076e-04  0.00000000e+00\n",
      " -2.70435550e-04  7.69785687e-04  0.00000000e+00  0.00000000e+00\n",
      "  2.70316257e-04  0.00000000e+00  0.00000000e+00  0.00000000e+00\n",
      "  0.00000000e+00  0.00000000e+00  0.00000000e+00  0.00000000e+00\n",
      "  0.00000000e+00  0.00000000e+00  0.00000000e+00  0.00000000e+00\n",
      "  0.00000000e+00  0.00000000e+00  0.00000000e+00  0.00000000e+00\n",
      "  0.00000000e+00  0.00000000e+00  0.00000000e+00  0.00000000e+00\n",
      "  0.00000000e+00  0.00000000e+00  0.00000000e+00  0.00000000e+00\n",
      "  0.00000000e+00  0.00000000e+00  0.00000000e+00  0.00000000e+00\n",
      "  0.00000000e+00  0.00000000e+00  0.00000000e+00  0.00000000e+00\n",
      "  0.00000000e+00  0.00000000e+00  0.00000000e+00  0.00000000e+00\n",
      "  0.00000000e+00  0.00000000e+00  0.00000000e+00  0.00000000e+00\n",
      "  0.00000000e+00  0.00000000e+00  0.00000000e+00  0.00000000e+00\n",
      "  0.00000000e+00  0.00000000e+00  0.00000000e+00  0.00000000e+00\n",
      "  0.00000000e+00  0.00000000e+00 -2.95407452e-04 -4.15086542e-05\n",
      "  0.00000000e+00  0.00000000e+00  0.00000000e+00  0.00000000e+00\n",
      "  0.00000000e+00  0.00000000e+00 -5.62363226e-06  0.00000000e+00\n",
      " -2.77309091e-04  0.00000000e+00  0.00000000e+00  0.00000000e+00] \n",
      "            Current error: 0.0002929526439826321 \n",
      "            Current sigma values: (0, 3, 10.0)\n",
      "Iteration: 90 \n",
      "            Max gradient term: 7.319411811888832e-05 \n",
      "            Current gradient: [ 0.00000000e+00  0.00000000e+00  0.00000000e+00  0.00000000e+00\n",
      "  0.00000000e+00  0.00000000e+00  0.00000000e+00  0.00000000e+00\n",
      "  0.00000000e+00  0.00000000e+00  0.00000000e+00  0.00000000e+00\n",
      "  0.00000000e+00 -4.45149297e-04  0.00000000e+00 -2.25320545e-04\n",
      "  0.00000000e+00  0.00000000e+00  0.00000000e+00  0.00000000e+00\n",
      "  0.00000000e+00  0.00000000e+00  4.09124402e-05  0.00000000e+00\n",
      "  0.00000000e+00  0.00000000e+00  0.00000000e+00 -1.78000089e-04\n",
      "  0.00000000e+00  0.00000000e+00  0.00000000e+00  0.00000000e+00\n",
      "  0.00000000e+00  0.00000000e+00  0.00000000e+00  0.00000000e+00\n",
      "  0.00000000e+00  0.00000000e+00  0.00000000e+00  0.00000000e+00\n",
      "  0.00000000e+00  0.00000000e+00  0.00000000e+00  0.00000000e+00\n",
      "  0.00000000e+00  0.00000000e+00  0.00000000e+00  7.31941181e-05\n",
      "  0.00000000e+00  0.00000000e+00  0.00000000e+00  0.00000000e+00\n",
      "  0.00000000e+00  0.00000000e+00  0.00000000e+00  0.00000000e+00\n",
      "  0.00000000e+00  0.00000000e+00  0.00000000e+00  0.00000000e+00\n",
      "  0.00000000e+00  0.00000000e+00  0.00000000e+00  0.00000000e+00\n",
      "  0.00000000e+00  0.00000000e+00  0.00000000e+00  0.00000000e+00\n",
      "  0.00000000e+00  0.00000000e+00 -3.93777549e-04  0.00000000e+00\n",
      "  0.00000000e+00  0.00000000e+00  0.00000000e+00  0.00000000e+00\n",
      "  0.00000000e+00  0.00000000e+00  0.00000000e+00  0.00000000e+00\n",
      "  5.66071276e-06  0.00000000e+00  0.00000000e+00  0.00000000e+00\n",
      "  0.00000000e+00  0.00000000e+00  0.00000000e+00  0.00000000e+00\n",
      " -4.58826442e-05  0.00000000e+00  0.00000000e+00 -2.56727678e-05\n",
      "  0.00000000e+00  0.00000000e+00  0.00000000e+00  0.00000000e+00\n",
      "  0.00000000e+00  0.00000000e+00 -1.35525272e-15  0.00000000e+00] \n",
      "            Current error: 0.0002464177511412126 \n",
      "            Current sigma values: (1, 0, 40.0)\n",
      "Iteration: 100 \n",
      "            Max gradient term: 0.0003740046796091648 \n",
      "            Current gradient: [ 2.96286866e-04  0.00000000e+00  0.00000000e+00  0.00000000e+00\n",
      "  0.00000000e+00  0.00000000e+00  0.00000000e+00  0.00000000e+00\n",
      "  0.00000000e+00  0.00000000e+00  0.00000000e+00  0.00000000e+00\n",
      "  0.00000000e+00  0.00000000e+00  0.00000000e+00 -2.11774939e-04\n",
      "  0.00000000e+00  0.00000000e+00  0.00000000e+00  0.00000000e+00\n",
      "  0.00000000e+00  0.00000000e+00  0.00000000e+00  0.00000000e+00\n",
      "  2.37522528e-04  0.00000000e+00  0.00000000e+00  0.00000000e+00\n",
      "  0.00000000e+00  0.00000000e+00  0.00000000e+00 -1.14913168e-04\n",
      "  0.00000000e+00  0.00000000e+00  1.61538555e-04  0.00000000e+00\n",
      "  0.00000000e+00  0.00000000e+00  0.00000000e+00  0.00000000e+00\n",
      "  0.00000000e+00  0.00000000e+00  0.00000000e+00  3.74004680e-04\n",
      "  0.00000000e+00  0.00000000e+00  0.00000000e+00  1.30108458e-04\n",
      "  0.00000000e+00  0.00000000e+00  0.00000000e+00  0.00000000e+00\n",
      "  0.00000000e+00  0.00000000e+00  1.52678566e-04  0.00000000e+00\n",
      "  0.00000000e+00  0.00000000e+00  0.00000000e+00  0.00000000e+00\n",
      "  0.00000000e+00  0.00000000e+00  0.00000000e+00  0.00000000e+00\n",
      "  0.00000000e+00  0.00000000e+00  0.00000000e+00  0.00000000e+00\n",
      "  0.00000000e+00  0.00000000e+00  0.00000000e+00  0.00000000e+00\n",
      "  0.00000000e+00  0.00000000e+00  0.00000000e+00  0.00000000e+00\n",
      "  0.00000000e+00  0.00000000e+00  0.00000000e+00  0.00000000e+00\n",
      "  0.00000000e+00  0.00000000e+00  0.00000000e+00  0.00000000e+00\n",
      "  0.00000000e+00  0.00000000e+00  0.00000000e+00  0.00000000e+00\n",
      "  0.00000000e+00  0.00000000e+00  0.00000000e+00  5.41971287e-06\n",
      "  0.00000000e+00  0.00000000e+00  0.00000000e+00  2.39579874e-05\n",
      "  0.00000000e+00  0.00000000e+00  0.00000000e+00  0.00000000e+00] \n",
      "            Current error: 0.00020577200418805207 \n",
      "            Current sigma values: (0, 2, 20.0)\n",
      "Iteration: 110 \n",
      "            Max gradient term: 0.0004402867325333491 \n",
      "            Current gradient: [ 0.00000000e+00  0.00000000e+00  0.00000000e+00  4.29744782e-04\n",
      "  0.00000000e+00 -2.80786258e-04  0.00000000e+00  0.00000000e+00\n",
      "  0.00000000e+00  0.00000000e+00  0.00000000e+00  0.00000000e+00\n",
      "  0.00000000e+00  0.00000000e+00  0.00000000e+00  0.00000000e+00\n",
      "  0.00000000e+00  0.00000000e+00 -4.63722671e-05  0.00000000e+00\n",
      "  0.00000000e+00  0.00000000e+00  0.00000000e+00  4.40286733e-04\n",
      "  0.00000000e+00  0.00000000e+00  0.00000000e+00  0.00000000e+00\n",
      "  0.00000000e+00  0.00000000e+00  0.00000000e+00  0.00000000e+00\n",
      "  0.00000000e+00  0.00000000e+00  0.00000000e+00 -2.57259775e-04\n",
      "  0.00000000e+00  0.00000000e+00  0.00000000e+00  0.00000000e+00\n",
      "  0.00000000e+00  0.00000000e+00  0.00000000e+00  0.00000000e+00\n",
      "  0.00000000e+00  0.00000000e+00  0.00000000e+00  0.00000000e+00\n",
      "  0.00000000e+00  0.00000000e+00  0.00000000e+00  0.00000000e+00\n",
      "  0.00000000e+00  0.00000000e+00  0.00000000e+00  0.00000000e+00\n",
      " -5.83197572e-05 -3.62495308e-05  0.00000000e+00  0.00000000e+00\n",
      "  0.00000000e+00  0.00000000e+00  0.00000000e+00  0.00000000e+00\n",
      "  0.00000000e+00  0.00000000e+00  0.00000000e+00  0.00000000e+00\n",
      " -1.36030636e-04  0.00000000e+00  0.00000000e+00  0.00000000e+00\n",
      "  0.00000000e+00  0.00000000e+00  0.00000000e+00  0.00000000e+00\n",
      "  0.00000000e+00  0.00000000e+00  0.00000000e+00  0.00000000e+00\n",
      "  0.00000000e+00  0.00000000e+00  0.00000000e+00  0.00000000e+00\n",
      "  0.00000000e+00  0.00000000e+00  0.00000000e+00  0.00000000e+00\n",
      "  0.00000000e+00  0.00000000e+00  2.73129317e-04  0.00000000e+00\n",
      "  0.00000000e+00  0.00000000e+00  0.00000000e+00  0.00000000e+00\n",
      "  0.00000000e+00  0.00000000e+00  5.42101086e-16  0.00000000e+00] \n",
      "            Current error: 0.00017107049812535436 \n",
      "            Current sigma values: (2, 1, 10.0)\n",
      "Iteration: 120 \n",
      "            Max gradient term: 0.0003565346136765379 \n",
      "            Current gradient: [ 0.00000000e+00  8.67361738e-15  0.00000000e+00  0.00000000e+00\n",
      "  0.00000000e+00  0.00000000e+00  0.00000000e+00  0.00000000e+00\n",
      "  0.00000000e+00  0.00000000e+00  0.00000000e+00  0.00000000e+00\n",
      "  0.00000000e+00  0.00000000e+00  0.00000000e+00  0.00000000e+00\n",
      "  0.00000000e+00  0.00000000e+00  0.00000000e+00 -5.80573657e-04\n",
      "  0.00000000e+00  0.00000000e+00  0.00000000e+00  0.00000000e+00\n",
      "  0.00000000e+00  0.00000000e+00  0.00000000e+00  0.00000000e+00\n",
      "  0.00000000e+00  0.00000000e+00  0.00000000e+00  0.00000000e+00\n",
      "  0.00000000e+00  0.00000000e+00  0.00000000e+00  0.00000000e+00\n",
      "  0.00000000e+00 -2.82441039e-05  0.00000000e+00  0.00000000e+00\n",
      "  0.00000000e+00  0.00000000e+00  0.00000000e+00  0.00000000e+00\n",
      "  0.00000000e+00  0.00000000e+00  0.00000000e+00  0.00000000e+00\n",
      "  0.00000000e+00  0.00000000e+00  0.00000000e+00  7.28633732e-05\n",
      "  0.00000000e+00  3.56534614e-04  0.00000000e+00  0.00000000e+00\n",
      "  0.00000000e+00  0.00000000e+00  0.00000000e+00  0.00000000e+00\n",
      "  0.00000000e+00  0.00000000e+00  0.00000000e+00  0.00000000e+00\n",
      "  2.19403182e-04  0.00000000e+00  0.00000000e+00  0.00000000e+00\n",
      "  0.00000000e+00  0.00000000e+00  0.00000000e+00  0.00000000e+00\n",
      "  0.00000000e+00  0.00000000e+00  2.46348874e-04  0.00000000e+00\n",
      "  0.00000000e+00  0.00000000e+00  0.00000000e+00  0.00000000e+00\n",
      "  0.00000000e+00  0.00000000e+00  0.00000000e+00  0.00000000e+00\n",
      "  0.00000000e+00  0.00000000e+00  0.00000000e+00  0.00000000e+00\n",
      "  0.00000000e+00  0.00000000e+00  0.00000000e+00  0.00000000e+00\n",
      " -1.16996709e-05  0.00000000e+00  9.98834545e-06  0.00000000e+00\n",
      "  0.00000000e+00 -8.13151629e-16  0.00000000e+00  0.00000000e+00] \n",
      "            Current error: 0.00015914619786449566 \n",
      "            Current sigma values: (0, 1, 10.0)\n",
      "-----\n",
      "        Grad calculation time: \n",
      "        18.64327907562256 \n",
      "        Armijo calculation time: \n",
      "        1.5292723178863525 \n",
      "        Total grad descend time: \n",
      "        0:20.18\n"
     ]
    }
   ],
   "source": [
    "theta_opt, errors, thetas = optimize(circuit, training_data, max_count=125, n_grad=10)\n",
    "\n",
    "np.save(\"both_theta_opt\", theta_opt)\n",
    "np.save(\"both_thetas\", thetas)\n",
    "np.save(\"both_errors\", errors)"
   ]
  },
  {
   "cell_type": "code",
   "execution_count": 6,
   "metadata": {},
   "outputs": [],
   "source": [
    "theta_opt = np.load(\"both_theta_opt.npy\")\n",
    "thetas = np.load(\"both_thetas.npy\")\n",
    "errors = np.load(\"both_errors.npy\")"
   ]
  },
  {
   "cell_type": "code",
   "execution_count": 7,
   "metadata": {},
   "outputs": [
    {
     "data": {
      "text/plain": [
       "array([ 0.22211806,  0.4       ,  0.4       ,  0.45879411,  0.58305597,\n",
       "        0.54248426,  0.21213017,  0.45876771,  0.48171472,  0.38797326,\n",
       "        0.40805471,  0.41722247,  0.52528764,  0.39144656,  0.39544901,\n",
       "        0.39641916,  0.39788026,  0.58414763,  0.57083653,  0.43673343,\n",
       "        0.39426263,  0.62363511,  0.62796116,  0.31771142,  0.11752221,\n",
       "        0.36617349, -0.37723992,  0.61579231,  0.49808898,  0.72338533,\n",
       "       -0.05228448,  0.43950232,  0.5868049 ,  0.27239039,  0.25690728,\n",
       "        0.24952138,  0.32934914,  0.4540966 ,  0.40046635,  0.38815461,\n",
       "        0.30564492,  0.45136849,  0.41150585,  0.36946445,  0.3207531 ,\n",
       "        0.39140194,  0.60895077,  0.3264055 ,  0.39809107,  0.61291988,\n",
       "        0.57649529,  0.33001869,  0.57864928,  0.25448003,  0.3016542 ,\n",
       "        0.41606487,  0.65960677,  0.43517058,  0.4341402 ,  0.45011735,\n",
       "        0.4240229 ,  0.48461976,  0.40690025,  0.34670367,  0.1881982 ,\n",
       "        0.01340169, -0.24182584,  0.41322234,  0.4536778 ,  0.46542603,\n",
       "        0.43063575,  0.34457458,  0.51102967,  0.70440922,  0.23651305,\n",
       "        0.43728877,  0.4189553 ,  0.3805572 ,  0.41636541,  0.39429088,\n",
       "        0.55097096,  0.41387171,  0.41840521, -0.0317574 ,  0.14163918,\n",
       "        0.3265539 ,  0.46776182,  0.41360196,  0.39517929,  0.99594927,\n",
       "        0.40683746,  0.41004239,  0.39605387,  0.01497146,  0.38873603,\n",
       "        0.39739142,  0.16160505,  0.4       ,  0.4       ,  0.40617222])"
      ]
     },
     "execution_count": 7,
     "metadata": {},
     "output_type": "execute_result"
    }
   ],
   "source": [
    "theta_opt"
   ]
  },
  {
   "cell_type": "code",
   "execution_count": 8,
   "metadata": {},
   "outputs": [
    {
     "name": "stderr",
     "output_type": "stream",
     "text": [
      "c:\\BFP\\quantum-channel-approximation\\venv\\Lib\\site-packages\\matplotlib\\cbook.py:1699: ComplexWarning: Casting complex values to real discards the imaginary part\n",
      "  return math.isfinite(val)\n",
      "c:\\BFP\\quantum-channel-approximation\\venv\\Lib\\site-packages\\matplotlib\\cbook.py:1345: ComplexWarning: Casting complex values to real discards the imaginary part\n",
      "  return np.asarray(x, float)\n"
     ]
    },
    {
     "data": {
      "text/plain": [
       "array([ 0. ,  0.5,  1. ,  1.5,  2. ,  2.5,  3. ,  3.5,  4. ,  4.5,  5. ,\n",
       "        5.5,  6. ,  6.5,  7. ,  7.5,  8. ,  8.5,  9. ,  9.5, 10. ])"
      ]
     },
     "execution_count": 8,
     "metadata": {},
     "output_type": "execute_result"
    },
    {
     "data": {
      "image/png": "[encoded data removed]",
      "text/plain": [
       "<Figure size 640x480 with 1 Axes>"
      ]
     },
     "metadata": {},
     "output_type": "display_data"
    }
   ],
   "source": [
    "rho0 = rho_rand_haar(1, 4)\n",
    "evolver = evolver_fac(circuit, theta_opt)\n",
    "rhos = evolver(20, rho0)\n",
    "\n",
    "Os = [O.full() for O in create_observables_comp_basis(1)]\n",
    "\n",
    "ess = measure_rhos(rhos, Os)\n",
    "rho_ref_s, ts = solve_lindblad_rho0(rho0, delta_t=0.5, N=20, s=system, jump_opers=jump_oper)\n",
    "e_ref_ss = measure_rhos([r.full() for r in rho_ref_s], Os)\n",
    "compare_ess((ts, ess, \"approx\"), (ts, e_ref_ss, \"ref\"), labels=comp_basis_labels(1))\n",
    "ts"
   ]
  },
  {
   "cell_type": "code",
   "execution_count": 9,
   "metadata": {},
   "outputs": [
    {
     "data": {
      "text/plain": [
       "[<matplotlib.lines.Line2D at 0x29467032010>]"
      ]
     },
     "execution_count": 9,
     "metadata": {},
     "output_type": "execute_result"
    },
    {
     "data": {
      "image/png": "[encoded data removed]",
      "text/plain": [
       "<Figure size 640x480 with 1 Axes>"
      ]
     },
     "metadata": {},
     "output_type": "display_data"
    }
   ],
   "source": [
    "plt.loglog(errors)"
   ]
  },
  {
   "cell_type": "code",
   "execution_count": null,
   "metadata": {},
   "outputs": [],
   "source": []
  },
  {
   "cell_type": "code",
   "execution_count": null,
   "metadata": {},
   "outputs": [],
   "source": []
  }
 ],
 "metadata": {
  "kernelspec": {
   "display_name": "venv",
   "language": "python",
   "name": "python3"
  },
  "language_info": {
   "codemirror_mode": {
    "name": "ipython",
    "version": 3
   },
   "file_extension": ".py",
   "mimetype": "text/x-python",
   "name": "python",
   "nbconvert_exporter": "python",
   "pygments_lexer": "ipython3",
   "version": "3.11.0"
  }
 },
 "nbformat": 4,
 "nbformat_minor": 2
}
