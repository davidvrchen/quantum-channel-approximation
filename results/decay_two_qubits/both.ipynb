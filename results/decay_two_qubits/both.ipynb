{
 "cells": [
  {
   "cell_type": "code",
   "execution_count": 1,
   "metadata": {},
   "outputs": [
    {
     "name": "stdout",
     "output_type": "stream",
     "text": [
      "random_rho0s: setting seed=78520\n"
     ]
    }
   ],
   "source": [
    "from settings import *\n"
   ]
  },
  {
   "cell_type": "code",
   "execution_count": 2,
   "metadata": {},
   "outputs": [],
   "source": [
    "qubits = TriangularLayoutAB(m=m, cutoff=1, distance=0.9)\n",
    "operations = [(\"rz\", \"AB\"), (\"rx\", \"AB\"), (\"rz\", \"AB\"), (\"ryd ent\", \"\")]\n",
    "circuit = unitary_circuit_fac(qubits, operations, repeats=1, depth=10)"
   ]
  },
  {
   "cell_type": "code",
   "execution_count": 3,
   "metadata": {},
   "outputs": [
    {
     "data": {
      "text/plain": [
       "<Axes: title={'center': 'Qubit layout'}>"
      ]
     },
     "execution_count": 3,
     "metadata": {},
     "output_type": "execute_result"
    },
    {
     "data": {
      "image/png": "[encoded data removed]",
      "text/plain": [
       "<Figure size 640x480 with 1 Axes>"
      ]
     },
     "metadata": {},
     "output_type": "display_data"
    }
   ],
   "source": [
    "qubits.show_layout()"
   ]
  },
  {
   "cell_type": "code",
   "execution_count": 4,
   "metadata": {},
   "outputs": [
    {
     "data": {
      "text/plain": [
       "[GateConnection(id1=0, id2=1, d=0.9),\n",
       " GateConnection(id1=0, id2=2, d=0.9),\n",
       " GateConnection(id1=0, id2=3, d=0.9),\n",
       " GateConnection(id1=1, id2=3, d=0.9),\n",
       " GateConnection(id1=1, id2=4, d=0.9),\n",
       " GateConnection(id1=2, id2=3, d=0.9),\n",
       " GateConnection(id1=3, id2=4, d=0.9000000000000001)]"
      ]
     },
     "execution_count": 4,
     "metadata": {},
     "output_type": "execute_result"
    }
   ],
   "source": [
    "qubits.gate_connections"
   ]
  },
  {
   "cell_type": "code",
   "execution_count": 5,
   "metadata": {},
   "outputs": [],
   "source": [
    "# theta_init = np.load(\"both_theta_opt.npy\")"
   ]
  },
  {
   "cell_type": "code",
   "execution_count": 6,
   "metadata": {},
   "outputs": [
    {
     "name": "stdout",
     "output_type": "stream",
     "text": [
      "optimizer (optimization indices): setting seed=6998\n"
     ]
    },
    {
     "name": "stderr",
     "output_type": "stream",
     "text": [
      "C:\\BFP\\quantum-channel-approximation\\q_channel_approx\\optimizer.py:193: ComplexWarning: Casting complex values to real discards the imaginary part\n",
      "  errors[i] = error\n"
     ]
    },
    {
     "name": "stdout",
     "output_type": "stream",
     "text": [
      "Iteration: 0 \n",
      "            Max gradient term: 0.028303561234177543 \n",
      "            Current gradient: [ 0.          0.          0.          0.          0.          0.\n",
      "  0.          0.          0.         -0.00332591  0.          0.\n",
      "  0.00302627  0.          0.          0.          0.          0.\n",
      "  0.         -0.00123235  0.          0.          0.          0.\n",
      "  0.          0.          0.          0.          0.          0.\n",
      "  0.          0.01556509  0.          0.          0.          0.\n",
      "  0.          0.          0.          0.          0.          0.\n",
      "  0.          0.          0.          0.          0.          0.\n",
      "  0.          0.          0.          0.          0.          0.\n",
      "  0.          0.          0.          0.          0.          0.\n",
      "  0.          0.          0.          0.          0.          0.\n",
      "  0.          0.          0.          0.          0.          0.\n",
      "  0.          0.          0.          0.          0.          0.\n",
      " -0.00020443  0.          0.          0.          0.          0.\n",
      "  0.          0.          0.         -0.00165702  0.          0.\n",
      "  0.          0.          0.          0.          0.          0.\n",
      " -0.0028057   0.          0.          0.          0.          0.\n",
      "  0.          0.          0.          0.          0.          0.\n",
      "  0.          0.          0.          0.          0.          0.\n",
      "  0.          0.          0.          0.          0.          0.\n",
      " -0.00923803  0.          0.          0.          0.          0.\n",
      "  0.          0.         -0.00697823  0.          0.          0.\n",
      "  0.          0.          0.          0.          0.          0.\n",
      "  0.          0.          0.          0.          0.          0.02830356\n",
      "  0.          0.          0.          0.          0.          0.\n",
      "  0.          0.          0.          0.          0.          0.\n",
      "  0.          0.          0.          0.        ] \n",
      "            Current error: 0.07180060374963607 \n",
      "            Current sigma values: (0, 1, 10)\n",
      "Iteration: 10 \n",
      "            Max gradient term: 0.004052003888185829 \n",
      "            Current gradient: [ 0.          0.          0.          0.          0.          0.\n",
      "  0.          0.          0.004052    0.          0.          0.\n",
      "  0.          0.          0.          0.          0.          0.\n",
      "  0.          0.          0.          0.          0.          0.\n",
      "  0.          0.          0.          0.          0.          0.\n",
      "  0.          0.          0.          0.          0.          0.\n",
      " -0.00483704  0.          0.          0.          0.          0.\n",
      "  0.          0.          0.          0.          0.          0.\n",
      "  0.          0.          0.          0.          0.          0.\n",
      "  0.          0.          0.          0.          0.          0.000501\n",
      "  0.          0.          0.          0.          0.          0.\n",
      "  0.          0.          0.          0.          0.          0.\n",
      "  0.00376329  0.          0.          0.          0.          0.\n",
      "  0.          0.          0.          0.          0.          0.\n",
      "  0.          0.          0.          0.          0.          0.\n",
      "  0.          0.          0.          0.          0.          0.\n",
      "  0.          0.          0.          0.          0.          0.\n",
      "  0.          0.          0.          0.          0.          0.\n",
      "  0.          0.          0.          0.          0.          0.\n",
      "  0.00230029  0.          0.          0.          0.         -0.00041418\n",
      "  0.          0.          0.          0.          0.          0.\n",
      "  0.          0.          0.          0.          0.00041372  0.\n",
      "  0.          0.          0.          0.         -0.002467    0.\n",
      "  0.          0.          0.          0.          0.          0.\n",
      "  0.          0.          0.          0.          0.          0.00110343\n",
      "  0.          0.         -0.00343196  0.          0.          0.\n",
      "  0.          0.          0.          0.        ] \n",
      "            Current error: 0.04396775194795127 \n",
      "            Current sigma values: (2, 3, 40)\n",
      "Iteration: 20 \n",
      "            Max gradient term: 0.0059579373637083655 \n",
      "            Current gradient: [ 0.          0.          0.          0.          0.          0.\n",
      "  0.          0.          0.          0.          0.          0.\n",
      "  0.          0.          0.          0.          0.          0.\n",
      "  0.          0.          0.          0.          0.          0.\n",
      "  0.          0.          0.          0.          0.          0.\n",
      "  0.          0.          0.          0.          0.          0.\n",
      "  0.          0.          0.          0.          0.          0.\n",
      "  0.          0.          0.          0.          0.          0.\n",
      "  0.          0.          0.         -0.00198451  0.          0.00438419\n",
      "  0.          0.          0.          0.          0.00359954  0.\n",
      "  0.          0.          0.          0.          0.          0.\n",
      "  0.          0.         -0.00261972  0.          0.          0.\n",
      "  0.          0.          0.          0.          0.00595794  0.\n",
      "  0.          0.          0.          0.          0.          0.\n",
      "  0.          0.00253802  0.          0.          0.          0.\n",
      "  0.          0.          0.          0.          0.          0.\n",
      "  0.          0.          0.          0.          0.          0.\n",
      "  0.          0.          0.          0.          0.0032746   0.\n",
      "  0.          0.         -0.00368243  0.          0.          0.\n",
      "  0.          0.          0.         -0.00071189  0.          0.\n",
      "  0.          0.          0.          0.          0.          0.\n",
      "  0.          0.          0.          0.          0.          0.\n",
      "  0.          0.          0.          0.          0.          0.\n",
      "  0.          0.          0.          0.          0.          0.\n",
      "  0.          0.          0.          0.          0.          0.\n",
      "  0.          0.          0.          0.          0.          0.\n",
      "  0.          0.          0.          0.        ] \n",
      "            Current error: 0.033083440178115604 \n",
      "            Current sigma values: (2, 1, 40.0)\n",
      "Iteration: 30 \n",
      "            Max gradient term: 0.0061818219514869766 \n",
      "            Current gradient: [ 0.          0.          0.          0.          0.          0.\n",
      "  0.          0.          0.          0.          0.          0.\n",
      "  0.          0.          0.          0.          0.          0.\n",
      "  0.          0.          0.          0.          0.          0.\n",
      "  0.          0.          0.          0.          0.          0.\n",
      "  0.          0.          0.          0.          0.          0.\n",
      "  0.          0.         -0.00343054  0.          0.          0.\n",
      "  0.          0.          0.          0.          0.         -0.02309734\n",
      "  0.          0.          0.          0.          0.          0.\n",
      "  0.          0.          0.00618182  0.          0.          0.\n",
      "  0.          0.          0.          0.          0.          0.\n",
      "  0.          0.          0.          0.          0.          0.00203334\n",
      "  0.00055515  0.          0.          0.          0.          0.\n",
      "  0.          0.          0.          0.          0.          0.\n",
      "  0.          0.          0.          0.          0.          0.\n",
      " -0.00165246  0.          0.          0.          0.          0.\n",
      "  0.          0.          0.          0.          0.          0.\n",
      "  0.          0.          0.          0.          0.          0.\n",
      "  0.          0.          0.          0.          0.         -0.00152079\n",
      "  0.          0.          0.         -0.00183114  0.          0.\n",
      "  0.          0.          0.          0.          0.          0.\n",
      "  0.          0.          0.          0.          0.          0.\n",
      "  0.          0.          0.          0.          0.          0.\n",
      "  0.         -0.00181734  0.          0.          0.          0.\n",
      "  0.          0.          0.          0.          0.          0.\n",
      "  0.          0.          0.          0.          0.          0.\n",
      "  0.          0.          0.          0.        ] \n",
      "            Current error: 0.023892397496446505 \n",
      "            Current sigma values: (2, 2, 20.0)\n"
     ]
    }
   ],
   "source": [
    "theta_opt, errors, thetas = optimize(circuit, training_data, max_count=500, n_grad=10)\n",
    "\n",
    "np.save(\"both_theta_opt\", theta_opt)\n",
    "np.save(\"both_thetas\", thetas)\n",
    "np.save(\"both_errors\", errors)"
   ]
  },
  {
   "cell_type": "code",
   "execution_count": null,
   "metadata": {},
   "outputs": [],
   "source": [
    "theta_opt = np.load(\"both_theta_opt.npy\")\n",
    "thetas = np.load(\"both_thetas.npy\")\n",
    "errors = np.load(\"both_errors.npy\")"
   ]
  },
  {
   "cell_type": "code",
   "execution_count": null,
   "metadata": {},
   "outputs": [
    {
     "data": {
      "text/plain": [
       "array([0.91008492, 0.97690888, 1.        , 1.        , 1.        ,\n",
       "       0.72374441, 0.59762165, 0.86230735, 0.9381458 , 0.96770223,\n",
       "       1.28297983, 1.06325162, 0.88473571, 1.1583426 , 0.91554755,\n",
       "       1.12816372, 1.0857339 , 1.28365206, 0.7910782 , 1.06439737,\n",
       "       1.04233803, 0.71073708, 0.64829595, 0.6889501 , 1.22467123,\n",
       "       0.67716836, 1.09393652, 1.54540406, 0.90625023, 1.03292162,\n",
       "       0.877278  , 1.14518059, 1.4206523 , 1.10364534, 0.56886909,\n",
       "       1.21958351, 0.60155962, 0.76225669, 0.89920607, 0.79134673,\n",
       "       0.75609348, 0.76523556, 1.20513409, 1.19128289, 0.8787953 ,\n",
       "       1.38923428, 0.68416759, 1.11684146, 1.06994602, 1.05652025,\n",
       "       0.6574888 , 1.54988194, 0.58214224, 1.09255695, 1.03361057,\n",
       "       0.72725966, 1.20609802, 0.61273076, 1.23496235, 1.06008733,\n",
       "       0.67436195, 1.07095502, 1.15568444, 1.1054497 , 0.75999573,\n",
       "       1.18475308, 1.08495854, 0.99675363, 0.92178046, 0.99818116,\n",
       "       0.98322717, 0.63169505, 1.80948284, 0.98174467, 1.07233768,\n",
       "       0.9419751 , 0.96100013, 1.19139704, 0.74816378, 0.8703306 ,\n",
       "       1.11904628, 1.07429056, 0.63393305, 1.23966997, 0.95553048,\n",
       "       1.06526466, 1.03519046, 1.4186508 , 1.28449655, 1.056006  ,\n",
       "       1.02451365, 1.12462599, 0.91380959, 1.05040367, 0.90542929,\n",
       "       1.01485054, 1.15090542, 1.08372797, 1.02873547, 1.26177015,\n",
       "       1.03847027, 1.04676425, 1.05932555, 0.81260361, 1.49063455,\n",
       "       0.81217577, 0.99884556, 0.98528586, 1.02815207, 1.53574757,\n",
       "       0.87359243, 0.87285244, 0.99719415, 0.93450247, 1.07024381,\n",
       "       1.14998047, 1.2808038 , 1.14229366, 1.12666347, 1.18027945,\n",
       "       1.24772725, 0.96891403, 1.00921116, 0.95813814, 0.75859711,\n",
       "       1.06051768, 0.8490181 , 1.00166824, 1.08877196, 1.0846068 ,\n",
       "       0.91947764, 0.94748117, 1.02931091, 0.92285343, 0.76050642,\n",
       "       1.43682984, 0.99047132, 1.4205597 , 1.10446097, 1.31553704,\n",
       "       0.91112752, 0.83248026, 0.85795781, 0.65521589, 1.24452385,\n",
       "       1.03192143, 0.90313714, 0.90526615, 0.97553086, 0.94069689,\n",
       "       0.98895901, 1.1115324 , 1.21137261, 1.32414868, 1.11106435,\n",
       "       0.95300986, 1.        , 1.        , 1.        , 1.2459282 ])"
      ]
     },
     "execution_count": 18,
     "metadata": {},
     "output_type": "execute_result"
    }
   ],
   "source": [
    "theta_opt"
   ]
  },
  {
   "cell_type": "code",
   "execution_count": null,
   "metadata": {},
   "outputs": [
    {
     "ename": "NameError",
     "evalue": "name 'rho_rand_haar' is not defined",
     "output_type": "error",
     "traceback": [
      "\u001b[1;31m---------------------------------------------------------------------------\u001b[0m",
      "\u001b[1;31mNameError\u001b[0m                                 Traceback (most recent call last)",
      "Cell \u001b[1;32mIn[1], line 1\u001b[0m\n\u001b[1;32m----> 1\u001b[0m rho0 \u001b[38;5;241m=\u001b[39m \u001b[43mrho_rand_haar\u001b[49m(m, \u001b[38;5;241m5\u001b[39m)\n\u001b[0;32m      2\u001b[0m evolver \u001b[38;5;241m=\u001b[39m evolver_fac(circuit, theta_opt)\n\u001b[0;32m      3\u001b[0m rhos \u001b[38;5;241m=\u001b[39m evolver(\u001b[38;5;241m20\u001b[39m, rho0\u001b[38;5;241m.\u001b[39mfull())\n",
      "\u001b[1;31mNameError\u001b[0m: name 'rho_rand_haar' is not defined"
     ]
    }
   ],
   "source": [
    "rho0 = rho_rand_haar(m, 5)\n",
    "evolver = evolver_fac(circuit, theta_opt)\n",
    "rhos = evolver(20, rho0.full())\n",
    "\n",
    "Os = [O.full() for O in create_observables_comp_basis(m)]\n",
    "\n",
    "ess = measure_rhos(rhos, Os)\n",
    "rho_ref_s, ts = solve_lindblad_rho0(rho0, delta_t=0.5, N=20, s=system, jump_opers=jump_oper)\n",
    "e_ref_ss = measure_rhos([r.full() for r in rho_ref_s], Os)\n",
    "compare_ess((ts, ess, \"approx\"), (ts, e_ref_ss, \"ref\"), labels=comp_basis_labels(m))"
   ]
  },
  {
   "cell_type": "code",
   "execution_count": null,
   "metadata": {},
   "outputs": [
    {
     "data": {
      "text/plain": [
       "[<matplotlib.lines.Line2D at 0x253b5eb0810>]"
      ]
     },
     "execution_count": 20,
     "metadata": {},
     "output_type": "execute_result"
    },
    {
     "data": {
      "image/png": "[encoded data removed]",
      "text/plain": [
       "<Figure size 640x480 with 1 Axes>"
      ]
     },
     "metadata": {},
     "output_type": "display_data"
    }
   ],
   "source": [
    "plt.loglog(errors)"
   ]
  },
  {
   "cell_type": "code",
   "execution_count": null,
   "metadata": {},
   "outputs": [],
   "source": []
  },
  {
   "cell_type": "code",
   "execution_count": null,
   "metadata": {},
   "outputs": [],
   "source": []
  }
 ],
 "metadata": {
  "kernelspec": {
   "display_name": "venv",
   "language": "python",
   "name": "python3"
  },
  "language_info": {
   "codemirror_mode": {
    "name": "ipython",
    "version": 3
   },
   "file_extension": ".py",
   "mimetype": "text/x-python",
   "name": "python",
   "nbconvert_exporter": "python",
   "pygments_lexer": "ipython3",
   "version": "3.11.0"
  }
 },
 "nbformat": 4,
 "nbformat_minor": 2
}
