{
 "cells": [
  {
   "cell_type": "code",
   "execution_count": 1,
   "metadata": {},
   "outputs": [],
   "source": [
    "from settings import *\n",
    "from q_channel_approx.physics_defns import default_jump_operators, no_decay_jump_operators\n",
    "from q_channel_approx import TriangularLayoutA, HEA_fac"
   ]
  },
  {
   "cell_type": "markdown",
   "metadata": {},
   "source": [
    "##### Set global constants for this experiment"
   ]
  },
  {
   "cell_type": "code",
   "execution_count": 2,
   "metadata": {},
   "outputs": [],
   "source": [
    "delta_t = 0.5\n",
    "N = 1\n",
    "L = 10\n"
   ]
  },
  {
   "cell_type": "markdown",
   "metadata": {},
   "source": [
    "##### Load observables"
   ]
  },
  {
   "cell_type": "code",
   "execution_count": 3,
   "metadata": {},
   "outputs": [],
   "source": [
    "Os = all_observables(m=m)\n",
    "jump_oper_decay = default_jump_operators(m=m, gammas=gammas)\n",
    "jump_oper_no_decay = no_decay_jump_operators()"
   ]
  },
  {
   "cell_type": "markdown",
   "metadata": {},
   "source": [
    "##### Make training data"
   ]
  },
  {
   "cell_type": "code",
   "execution_count": 4,
   "metadata": {},
   "outputs": [
    {
     "name": "stdout",
     "output_type": "stream",
     "text": [
      "random_rho0s: setting seed=1716\n"
     ]
    }
   ],
   "source": [
    "rho0s = random_rho0s(m=m, L=L)\n",
    "rhoss, ts = solve_lindblad_rho0s(rho0s=rho0s, delta_t=delta_t, N=N, s=system, jump_opers=jump_oper_decay)\n",
    "training_data = mk_training_data(rhoss=rhoss, Os=Os)"
   ]
  },
  {
   "cell_type": "markdown",
   "metadata": {},
   "source": [
    "##### Create a qubit layout and a parametrized circuit on those qubits"
   ]
  },
  {
   "cell_type": "code",
   "execution_count": 5,
   "metadata": {},
   "outputs": [],
   "source": [
    "qubits = TriangularLayoutA(m=m, distance=0.9)\n",
    "circuit = HEA_fac(qubits, depth=10, repeats=1)"
   ]
  },
  {
   "cell_type": "code",
   "execution_count": 6,
   "metadata": {},
   "outputs": [
    {
     "data": {
      "text/plain": [
       "<Axes: title={'center': 'Qubit layout'}>"
      ]
     },
     "execution_count": 6,
     "metadata": {},
     "output_type": "execute_result"
    },
    {
     "data": {
      "image/png": "[encoded data removed]",
      "text/plain": [
       "<Figure size 640x480 with 1 Axes>"
      ]
     },
     "metadata": {},
     "output_type": "display_data"
    }
   ],
   "source": [
    "qubits.show_layout()"
   ]
  },
  {
   "cell_type": "code",
   "execution_count": 7,
   "metadata": {},
   "outputs": [],
   "source": [
    "# optionally load already optimized theta\n",
    "\n",
    "# theta_opt = np.load(\"ham_theta_opt.npy\")"
   ]
  },
  {
   "cell_type": "markdown",
   "metadata": {},
   "source": [
    "##### Optimize the parameters"
   ]
  },
  {
   "cell_type": "code",
   "execution_count": 8,
   "metadata": {},
   "outputs": [
    {
     "name": "stdout",
     "output_type": "stream",
     "text": [
      "optimizer (optimization indices): setting seed=99830\n"
     ]
    },
    {
     "name": "stderr",
     "output_type": "stream",
     "text": [
      "C:\\Users\\Admin\\Desktop\\BFP\\quantum-channel-approximation\\q_channel_approx\\optimizer.py:193: ComplexWarning: Casting complex values to real discards the imaginary part\n",
      "  errors[i] = error\n"
     ]
    },
    {
     "name": "stdout",
     "output_type": "stream",
     "text": [
      "small sigma\n",
      "Zero gradient hit after 38 iterations\n"
     ]
    }
   ],
   "source": [
    "theta_opt, errors, thetas = optimize(\n",
    "    circuit=circuit, \n",
    "    training_data=training_data, \n",
    "    n_grad=10, \n",
    "    max_count=100,\n",
    ")\n",
    "\n",
    "# optionally, save the results of the optimization process\n",
    "\n",
    "# theta_opt = np.save(\"ham_theta_opt.npy\", theta_opt)\n",
    "# thetas = np.save(\"ham_thetas.npy\", thetas)\n",
    "# errors = np.save(\"ham_errors.npy\", errors)"
   ]
  },
  {
   "cell_type": "code",
   "execution_count": 9,
   "metadata": {},
   "outputs": [
    {
     "data": {
      "text/plain": [
       "Text(0, 0.5, 'error')"
      ]
     },
     "execution_count": 9,
     "metadata": {},
     "output_type": "execute_result"
    },
    {
     "data": {
      "image/png": "[encoded data removed]",
      "text/plain": [
       "<Figure size 640x480 with 1 Axes>"
      ]
     },
     "metadata": {},
     "output_type": "display_data"
    }
   ],
   "source": [
    "plt.loglog(errors)\n",
    "plt.xlabel(\"iterations\")\n",
    "plt.ylabel(\"error\")"
   ]
  },
  {
   "cell_type": "markdown",
   "metadata": {},
   "source": [
    "##### Compare approximated Hamiltonian to the actual Hamiltonian"
   ]
  },
  {
   "cell_type": "code",
   "execution_count": 10,
   "metadata": {},
   "outputs": [],
   "source": [
    "eH_approx = circuit(theta_opt)\n",
    "eH_ref = sc.linalg.expm((-1j) * delta_t * create_hamiltonian(system).full())"
   ]
  },
  {
   "cell_type": "code",
   "execution_count": 11,
   "metadata": {},
   "outputs": [
    {
     "data": {
      "text/plain": [
       "array([[-0.9808782 -3.74191129e-05j,  0.01115318+1.94302780e-01j],\n",
       "       [-0.01115318+1.94302780e-01j, -0.9808782 +3.74191129e-05j]])"
      ]
     },
     "execution_count": 11,
     "metadata": {},
     "output_type": "execute_result"
    }
   ],
   "source": [
    "eH_approx"
   ]
  },
  {
   "cell_type": "code",
   "execution_count": 12,
   "metadata": {},
   "outputs": [
    {
     "data": {
      "text/plain": [
       "array([[0.98006658+0.j        , 0.        -0.19866933j],\n",
       "       [0.        -0.19866933j, 0.98006658+0.j        ]])"
      ]
     },
     "execution_count": 12,
     "metadata": {},
     "output_type": "execute_result"
    }
   ],
   "source": [
    "eH_ref"
   ]
  },
  {
   "cell_type": "code",
   "execution_count": 13,
   "metadata": {},
   "outputs": [
    {
     "data": {
      "text/plain": [
       "array([[ 1.96094477+3.74191129e-05j, -0.01115318-3.92972111e-01j],\n",
       "       [ 0.01115318-3.92972111e-01j,  1.96094477-3.74191129e-05j]])"
      ]
     },
     "execution_count": 13,
     "metadata": {},
     "output_type": "execute_result"
    }
   ],
   "source": [
    "eH_ref - eH_approx"
   ]
  },
  {
   "cell_type": "markdown",
   "metadata": {},
   "source": [
    "##### Plot approximated solution compared to reference solution"
   ]
  },
  {
   "cell_type": "code",
   "execution_count": 14,
   "metadata": {},
   "outputs": [],
   "source": [
    "n_time_steps = 200\n",
    "Os_comp = [O.full() for O in create_observables_comp_basis(m=m)]"
   ]
  },
  {
   "cell_type": "code",
   "execution_count": 15,
   "metadata": {},
   "outputs": [
    {
     "name": "stdout",
     "output_type": "stream",
     "text": [
      "rho_rand_haar: seed=12902\n"
     ]
    }
   ],
   "source": [
    "rho0 = rho_rand_haar(m=m)"
   ]
  },
  {
   "cell_type": "code",
   "execution_count": 16,
   "metadata": {},
   "outputs": [],
   "source": [
    "# calculate reference solution\n",
    "\n",
    "rhos_ref, ts = solve_lindblad_rho0(rho0, \n",
    "                                delta_t=delta_t, \n",
    "                                N=n_time_steps, \n",
    "                                s=system, \n",
    "                                jump_opers=jump_oper_decay,\n",
    "                                )\n",
    "ess_ref = measure_rhos([r.full() for r in rhos_ref], Os_comp)"
   ]
  },
  {
   "cell_type": "code",
   "execution_count": 17,
   "metadata": {},
   "outputs": [],
   "source": [
    "# calculate approximated solution\n",
    "\n",
    "evolver = evolver_fac(circuit, theta_opt)\n",
    "rhos_approx = evolver(n=n_time_steps, rho=rho0.full())"
   ]
  },
  {
   "cell_type": "code",
   "execution_count": null,
   "metadata": {},
   "outputs": [],
   "source": []
  }
 ],
 "metadata": {
  "kernelspec": {
   "display_name": "venv",
   "language": "python",
   "name": "python3"
  },
  "language_info": {
   "codemirror_mode": {
    "name": "ipython",
    "version": 3
   },
   "file_extension": ".py",
   "mimetype": "text/x-python",
   "name": "python",
   "nbconvert_exporter": "python",
   "pygments_lexer": "ipython3",
   "version": "3.11.5"
  }
 },
 "nbformat": 4,
 "nbformat_minor": 2
}
