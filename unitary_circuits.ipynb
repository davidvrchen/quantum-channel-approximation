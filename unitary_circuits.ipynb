{
 "cells": [
  {
   "cell_type": "code",
   "execution_count": 10,
   "metadata": {},
   "outputs": [],
   "source": [
    "from q_lab_toolbox.unitary_circuits import unitary_circuit_fac, TriangularLayout, HEA_fac"
   ]
  },
  {
   "cell_type": "code",
   "execution_count": 11,
   "metadata": {},
   "outputs": [],
   "source": [
    "qubits = TriangularLayout(1)"
   ]
  },
  {
   "cell_type": "code",
   "execution_count": 12,
   "metadata": {},
   "outputs": [],
   "source": [
    "import numpy as np\n",
    "H = np.identity(2)"
   ]
  },
  {
   "cell_type": "code",
   "execution_count": 13,
   "metadata": {},
   "outputs": [],
   "source": [
    "operations = [(\"rz\", \"AB\"), (\"rx\", \"AB\"), (\"rz\", \"AB\"), (\"ryd ent\", \"AB\")]"
   ]
  },
  {
   "cell_type": "code",
   "execution_count": 14,
   "metadata": {},
   "outputs": [],
   "source": [
    "hea_g = unitary_circuit_fac(qubits, operations, repeats=3, depth=3)"
   ]
  },
  {
   "cell_type": "code",
   "execution_count": 15,
   "metadata": {},
   "outputs": [],
   "source": [
    "hea_c = HEA_fac(qubits, repeats=3, depth=3)"
   ]
  },
  {
   "cell_type": "code",
   "execution_count": 16,
   "metadata": {},
   "outputs": [
    {
     "name": "stdout",
     "output_type": "stream",
     "text": [
      "Circuit; qubits layout: \n",
      " Triangular qubit layout (1 comp. qubits, 2 ancilla qubits) \n",
      " Parameters: 30 \n",
      " Operations [('rz', 3), ('rx', 3), ('rz', 3), ('ryd ent', 1)]\n"
     ]
    }
   ],
   "source": [
    "print(hea_c)"
   ]
  },
  {
   "cell_type": "code",
   "execution_count": 17,
   "metadata": {},
   "outputs": [
    {
     "name": "stdout",
     "output_type": "stream",
     "text": [
      "Circuit; qubits layout: \n",
      " Triangular qubit layout (1 comp. qubits, 2 ancilla qubits) \n",
      " Parameters: 30 \n",
      " Operations [('rz', 'AB'), ('rx', 'AB'), ('rz', 'AB'), ('ryd ent', 'AB')]\n"
     ]
    }
   ],
   "source": [
    "print(hea_g)"
   ]
  },
  {
   "cell_type": "code",
   "execution_count": 18,
   "metadata": {},
   "outputs": [
    {
     "data": {
      "text/plain": [
       "(-5.091413401991929e-16-4.623038063478191e-16j)"
      ]
     },
     "execution_count": 18,
     "metadata": {},
     "output_type": "execute_result"
    }
   ],
   "source": [
    "ps = np.random.rand(30)\n",
    "np.sum(hea_c(ps) - hea_g(ps))"
   ]
  }
 ],
 "metadata": {
  "kernelspec": {
   "display_name": "venv",
   "language": "python",
   "name": "python3"
  },
  "language_info": {
   "codemirror_mode": {
    "name": "ipython",
    "version": 3
   },
   "file_extension": ".py",
   "mimetype": "text/x-python",
   "name": "python",
   "nbconvert_exporter": "python",
   "pygments_lexer": "ipython3",
   "version": "3.11.5"
  }
 },
 "nbformat": 4,
 "nbformat_minor": 2
}
