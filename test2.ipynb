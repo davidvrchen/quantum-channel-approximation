{
 "cells": [
  {
   "cell_type": "code",
   "execution_count": 1,
   "metadata": {},
   "outputs": [],
   "source": [
    "from q_lab_toolbox.my_functions import get_paulis"
   ]
  },
  {
   "cell_type": "code",
   "execution_count": 2,
   "metadata": {},
   "outputs": [],
   "source": [
    "pauli_list, pauli_list_names, id_qubit_list, index_list = get_paulis(2, \"full\")"
   ]
  },
  {
   "cell_type": "code",
   "execution_count": 3,
   "metadata": {},
   "outputs": [
    {
     "data": {
      "text/plain": [
       "array([[[ 1.+0.j,  0.+0.j,  0.+0.j,  0.+0.j],\n",
       "        [ 0.+0.j,  1.+0.j,  0.+0.j,  0.+0.j],\n",
       "        [ 0.+0.j,  0.+0.j,  1.+0.j,  0.+0.j],\n",
       "        [ 0.+0.j,  0.+0.j,  0.+0.j,  1.+0.j]],\n",
       "\n",
       "       [[ 0.+0.j,  1.+0.j,  0.+0.j,  0.+0.j],\n",
       "        [ 1.+0.j,  0.+0.j,  0.+0.j,  0.+0.j],\n",
       "        [ 0.+0.j,  0.+0.j,  0.+0.j,  1.+0.j],\n",
       "        [ 0.+0.j,  0.+0.j,  1.+0.j,  0.+0.j]],\n",
       "\n",
       "       [[ 0.+0.j,  0.-1.j,  0.+0.j,  0.+0.j],\n",
       "        [ 0.+1.j,  0.+0.j,  0.+0.j,  0.+0.j],\n",
       "        [ 0.+0.j,  0.+0.j,  0.+0.j,  0.-1.j],\n",
       "        [ 0.+0.j,  0.+0.j,  0.+1.j,  0.+0.j]],\n",
       "\n",
       "       [[ 1.+0.j,  0.+0.j,  0.+0.j,  0.+0.j],\n",
       "        [ 0.+0.j, -1.+0.j,  0.+0.j, -0.+0.j],\n",
       "        [ 0.+0.j,  0.+0.j,  1.+0.j,  0.+0.j],\n",
       "        [ 0.+0.j, -0.+0.j,  0.+0.j, -1.+0.j]],\n",
       "\n",
       "       [[ 0.+0.j,  0.+0.j,  1.+0.j,  0.+0.j],\n",
       "        [ 0.+0.j,  0.+0.j,  0.+0.j,  1.+0.j],\n",
       "        [ 1.+0.j,  0.+0.j,  0.+0.j,  0.+0.j],\n",
       "        [ 0.+0.j,  1.+0.j,  0.+0.j,  0.+0.j]],\n",
       "\n",
       "       [[ 0.+0.j,  0.+0.j,  0.+0.j,  1.+0.j],\n",
       "        [ 0.+0.j,  0.+0.j,  1.+0.j,  0.+0.j],\n",
       "        [ 0.+0.j,  1.+0.j,  0.+0.j,  0.+0.j],\n",
       "        [ 1.+0.j,  0.+0.j,  0.+0.j,  0.+0.j]],\n",
       "\n",
       "       [[ 0.+0.j,  0.+0.j,  0.+0.j,  0.-1.j],\n",
       "        [ 0.+0.j,  0.+0.j,  0.+1.j,  0.+0.j],\n",
       "        [ 0.+0.j,  0.-1.j,  0.+0.j,  0.+0.j],\n",
       "        [ 0.+1.j,  0.+0.j,  0.+0.j,  0.+0.j]],\n",
       "\n",
       "       [[ 0.+0.j,  0.+0.j,  1.+0.j,  0.+0.j],\n",
       "        [ 0.+0.j, -0.+0.j,  0.+0.j, -1.+0.j],\n",
       "        [ 1.+0.j,  0.+0.j,  0.+0.j,  0.+0.j],\n",
       "        [ 0.+0.j, -1.+0.j,  0.+0.j, -0.+0.j]],\n",
       "\n",
       "       [[ 0.+0.j,  0.+0.j,  0.-1.j,  0.+0.j],\n",
       "        [ 0.+0.j,  0.+0.j,  0.+0.j,  0.-1.j],\n",
       "        [ 0.+1.j,  0.+0.j,  0.+0.j,  0.+0.j],\n",
       "        [ 0.+0.j,  0.+1.j,  0.+0.j,  0.+0.j]],\n",
       "\n",
       "       [[ 0.+0.j,  0.+0.j,  0.+0.j,  0.-1.j],\n",
       "        [ 0.+0.j,  0.+0.j,  0.-1.j,  0.+0.j],\n",
       "        [ 0.+0.j,  0.+1.j,  0.+0.j,  0.+0.j],\n",
       "        [ 0.+1.j,  0.+0.j,  0.+0.j,  0.+0.j]],\n",
       "\n",
       "       [[ 0.+0.j,  0.+0.j,  0.+0.j, -1.-0.j],\n",
       "        [ 0.+0.j,  0.+0.j,  1.+0.j,  0.+0.j],\n",
       "        [ 0.+0.j,  1.+0.j,  0.+0.j,  0.+0.j],\n",
       "        [-1.+0.j,  0.+0.j,  0.+0.j,  0.+0.j]],\n",
       "\n",
       "       [[ 0.+0.j,  0.+0.j,  0.-1.j,  0.+0.j],\n",
       "        [ 0.+0.j, -0.+0.j,  0.+0.j,  0.+1.j],\n",
       "        [ 0.+1.j,  0.+0.j,  0.+0.j,  0.+0.j],\n",
       "        [ 0.+0.j, -0.-1.j,  0.+0.j, -0.+0.j]],\n",
       "\n",
       "       [[ 1.+0.j,  0.+0.j,  0.+0.j,  0.+0.j],\n",
       "        [ 0.+0.j,  1.+0.j,  0.+0.j,  0.+0.j],\n",
       "        [ 0.+0.j,  0.+0.j, -1.+0.j, -0.+0.j],\n",
       "        [ 0.+0.j,  0.+0.j, -0.+0.j, -1.+0.j]],\n",
       "\n",
       "       [[ 0.+0.j,  1.+0.j,  0.+0.j,  0.+0.j],\n",
       "        [ 1.+0.j,  0.+0.j,  0.+0.j,  0.+0.j],\n",
       "        [ 0.+0.j,  0.+0.j, -0.+0.j, -1.+0.j],\n",
       "        [ 0.+0.j,  0.+0.j, -1.+0.j, -0.+0.j]],\n",
       "\n",
       "       [[ 0.+0.j,  0.-1.j,  0.+0.j,  0.+0.j],\n",
       "        [ 0.+1.j,  0.+0.j,  0.+0.j,  0.+0.j],\n",
       "        [ 0.+0.j,  0.+0.j, -0.+0.j,  0.+1.j],\n",
       "        [ 0.+0.j,  0.+0.j, -0.-1.j, -0.+0.j]],\n",
       "\n",
       "       [[ 1.+0.j,  0.+0.j,  0.+0.j,  0.+0.j],\n",
       "        [ 0.+0.j, -1.+0.j,  0.+0.j, -0.+0.j],\n",
       "        [ 0.+0.j,  0.+0.j, -1.+0.j, -0.+0.j],\n",
       "        [ 0.+0.j, -0.+0.j, -0.+0.j,  1.-0.j]]])"
      ]
     },
     "execution_count": 3,
     "metadata": {},
     "output_type": "execute_result"
    }
   ],
   "source": [
    "pauli_list"
   ]
  },
  {
   "cell_type": "code",
   "execution_count": 4,
   "metadata": {},
   "outputs": [
    {
     "data": {
      "text/plain": [
       "array([['I', 'I'],\n",
       "       ['I', 'X'],\n",
       "       ['I', 'Y'],\n",
       "       ['I', 'Z'],\n",
       "       ['X', 'I'],\n",
       "       ['X', 'X'],\n",
       "       ['X', 'Y'],\n",
       "       ['X', 'Z'],\n",
       "       ['Y', 'I'],\n",
       "       ['Y', 'X'],\n",
       "       ['Y', 'Y'],\n",
       "       ['Y', 'Z'],\n",
       "       ['Z', 'I'],\n",
       "       ['Z', 'X'],\n",
       "       ['Z', 'Y'],\n",
       "       ['Z', 'Z']], dtype='<U1')"
      ]
     },
     "execution_count": 4,
     "metadata": {},
     "output_type": "execute_result"
    }
   ],
   "source": [
    "pauli_list_names"
   ]
  },
  {
   "cell_type": "code",
   "execution_count": 5,
   "metadata": {},
   "outputs": [
    {
     "data": {
      "text/plain": [
       "array([[0., 0., 0., 0., 1., 1., 1., 1., 1., 1., 1., 1., 1., 1., 1., 1.],\n",
       "       [0., 1., 1., 1., 0., 1., 1., 1., 0., 1., 1., 1., 0., 1., 1., 1.]])"
      ]
     },
     "execution_count": 5,
     "metadata": {},
     "output_type": "execute_result"
    }
   ],
   "source": [
    "id_qubit_list"
   ]
  },
  {
   "cell_type": "code",
   "execution_count": 6,
   "metadata": {},
   "outputs": [],
   "source": [
    "pauli_index_x, pauli_index_y, pauli_index_factor = index_list"
   ]
  },
  {
   "cell_type": "code",
   "execution_count": 7,
   "metadata": {},
   "outputs": [
    {
     "data": {
      "text/plain": [
       "array([[0, 1, 2, 3],\n",
       "       [0, 1, 2, 3],\n",
       "       [0, 1, 2, 3],\n",
       "       [0, 1, 2, 3],\n",
       "       [0, 1, 2, 3],\n",
       "       [0, 1, 2, 3],\n",
       "       [0, 1, 2, 3],\n",
       "       [0, 1, 2, 3],\n",
       "       [0, 1, 2, 3],\n",
       "       [0, 1, 2, 3],\n",
       "       [0, 1, 2, 3],\n",
       "       [0, 1, 2, 3],\n",
       "       [0, 1, 2, 3],\n",
       "       [0, 1, 2, 3],\n",
       "       [0, 1, 2, 3],\n",
       "       [0, 1, 2, 3]], dtype=int64)"
      ]
     },
     "execution_count": 7,
     "metadata": {},
     "output_type": "execute_result"
    }
   ],
   "source": [
    "pauli_index_x"
   ]
  },
  {
   "cell_type": "code",
   "execution_count": 8,
   "metadata": {},
   "outputs": [
    {
     "data": {
      "text/plain": [
       "array([[0, 1, 2, 3],\n",
       "       [1, 0, 3, 2],\n",
       "       [1, 0, 3, 2],\n",
       "       [0, 1, 2, 3],\n",
       "       [2, 3, 0, 1],\n",
       "       [3, 2, 1, 0],\n",
       "       [3, 2, 1, 0],\n",
       "       [2, 3, 0, 1],\n",
       "       [2, 3, 0, 1],\n",
       "       [3, 2, 1, 0],\n",
       "       [3, 2, 1, 0],\n",
       "       [2, 3, 0, 1],\n",
       "       [0, 1, 2, 3],\n",
       "       [1, 0, 3, 2],\n",
       "       [1, 0, 3, 2],\n",
       "       [0, 1, 2, 3]], dtype=int64)"
      ]
     },
     "execution_count": 8,
     "metadata": {},
     "output_type": "execute_result"
    }
   ],
   "source": [
    "pauli_index_y"
   ]
  },
  {
   "cell_type": "code",
   "execution_count": 9,
   "metadata": {},
   "outputs": [
    {
     "data": {
      "text/plain": [
       "array([[ 1.+0.j,  1.+0.j,  1.+0.j,  1.+0.j],\n",
       "       [ 1.+0.j,  1.+0.j,  1.+0.j,  1.+0.j],\n",
       "       [ 0.-1.j,  0.+1.j,  0.-1.j,  0.+1.j],\n",
       "       [ 1.+0.j, -1.+0.j,  1.+0.j, -1.+0.j],\n",
       "       [ 1.+0.j,  1.+0.j,  1.+0.j,  1.+0.j],\n",
       "       [ 1.+0.j,  1.+0.j,  1.+0.j,  1.+0.j],\n",
       "       [ 0.-1.j,  0.+1.j,  0.-1.j,  0.+1.j],\n",
       "       [ 1.+0.j, -1.+0.j,  1.+0.j, -1.+0.j],\n",
       "       [ 0.-1.j,  0.-1.j,  0.+1.j,  0.+1.j],\n",
       "       [ 0.-1.j,  0.-1.j,  0.+1.j,  0.+1.j],\n",
       "       [-1.-0.j,  1.+0.j,  1.+0.j, -1.+0.j],\n",
       "       [ 0.-1.j,  0.+1.j,  0.+1.j, -0.-1.j],\n",
       "       [ 1.+0.j,  1.+0.j, -1.+0.j, -1.+0.j],\n",
       "       [ 1.+0.j,  1.+0.j, -1.+0.j, -1.+0.j],\n",
       "       [ 0.-1.j,  0.+1.j,  0.+1.j, -0.-1.j],\n",
       "       [ 1.+0.j, -1.+0.j, -1.+0.j,  1.-0.j]])"
      ]
     },
     "execution_count": 9,
     "metadata": {},
     "output_type": "execute_result"
    }
   ],
   "source": [
    "pauli_index_factor"
   ]
  },
  {
   "cell_type": "code",
   "execution_count": null,
   "metadata": {},
   "outputs": [],
   "source": []
  }
 ],
 "metadata": {
  "kernelspec": {
   "display_name": "venv",
   "language": "python",
   "name": "python3"
  },
  "language_info": {
   "codemirror_mode": {
    "name": "ipython",
    "version": 3
   },
   "file_extension": ".py",
   "mimetype": "text/x-python",
   "name": "python",
   "nbconvert_exporter": "python",
   "pygments_lexer": "ipython3",
   "version": "3.11.5"
  }
 },
 "nbformat": 4,
 "nbformat_minor": 2
}
