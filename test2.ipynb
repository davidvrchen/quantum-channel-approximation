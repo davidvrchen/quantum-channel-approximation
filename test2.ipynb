{
 "cells": [
  {
   "cell_type": "code",
   "execution_count": 1,
   "metadata": {},
   "outputs": [],
   "source": [
    "from q_lab_toolbox.target_systems import DecaySystem\n",
    "from q_lab_toolbox.hamiltonians import create_hamiltonian\n",
    "from q_lab_toolbox.jump_operators import create_jump_operators"
   ]
  },
  {
   "cell_type": "code",
   "execution_count": 2,
   "metadata": {},
   "outputs": [],
   "source": [
    "decay_system = DecaySystem(ryd_interaction=0.1, omegas=(0.2, 0.4), m=2, gammas=(0.3, 0.35))"
   ]
  },
  {
   "cell_type": "code",
   "execution_count": 3,
   "metadata": {},
   "outputs": [],
   "source": [
    "H = create_hamiltonian(decay_system)\n",
    "An = create_jump_operators(decay_system)"
   ]
  },
  {
   "cell_type": "code",
   "execution_count": 4,
   "metadata": {},
   "outputs": [],
   "source": [
    "from q_lab_toolbox.initial_states import _rho_rand_haar\n",
    "\n",
    "rho0 = _rho_rand_haar(m=2, seed=3)"
   ]
  },
  {
   "cell_type": "code",
   "execution_count": 5,
   "metadata": {},
   "outputs": [
    {
     "data": {
      "text/latex": [
       "Quantum object: dims = [[2, 2], [2, 2]], shape = (4, 4), type = oper, isherm = True $ \\\\ \\left(\\begin{matrix}0.431 & (-0.036+0.106j) & (-0.210+0.321j) & (-0.272+0.105j)\\\\(-0.036-0.106j) & 0.029 & (0.097+0.024j) & (0.049+0.058j)\\\\(-0.210-0.321j) & (0.097-0.024j) & 0.342 & (0.211+0.152j)\\\\(-0.272-0.105j) & (0.049-0.058j) & (0.211-0.152j) & 0.198\\\\\\end{matrix}\\right)$"
      ],
      "text/plain": [
       "Quantum object: dims = [[2, 2], [2, 2]], shape = (4, 4), type = oper, isherm = True\n",
       "Qobj data =\n",
       "[[ 0.43099531+0.j         -0.03645119+0.10609661j -0.20985646+0.32143067j\n",
       "  -0.27240032+0.10532724j]\n",
       " [-0.03645119-0.10609661j  0.02920027+0.j          0.09687397+0.02447481j\n",
       "   0.04896615+0.05814784j]\n",
       " [-0.20985646-0.32143067j  0.09687397-0.02447481j  0.34190027+0.j\n",
       "   0.21118646+0.15186759j]\n",
       " [-0.27240032-0.10532724j  0.04896615-0.05814784j  0.21118646-0.15186759j\n",
       "   0.19790415+0.j        ]]"
      ]
     },
     "execution_count": 5,
     "metadata": {},
     "output_type": "execute_result"
    }
   ],
   "source": [
    "rho0"
   ]
  },
  {
   "cell_type": "code",
   "execution_count": 6,
   "metadata": {},
   "outputs": [],
   "source": [
    "N=10"
   ]
  },
  {
   "cell_type": "code",
   "execution_count": 1,
   "metadata": {},
   "outputs": [],
   "source": [
    "from q_lab_toolbox.target_systems import DecaySystem\n",
    "from q_lab_toolbox.hamiltonians import create_hamiltonian\n",
    "from q_lab_toolbox.jump_operators import create_jump_operators\n",
    "from q_lab_toolbox.initial_states import _rho_rand_haar\n",
    "import numpy as np\n",
    "from q_lab_toolbox.training_data import mk_training_data_states\n",
    "from q_lab_toolbox.readout_operators import _order_n_observables\n",
    "from q_lab_toolbox.channels import GateBasedChannel\n",
    "from q_lab_toolbox.unitary_circuits import HardwareAnsatz"
   ]
  },
  {
   "cell_type": "code",
   "execution_count": 2,
   "metadata": {},
   "outputs": [
    {
     "name": "stdout",
     "output_type": "stream",
     "text": [
      "O: Quantum object: dims = [[2, 2], [2, 2]], shape = (4, 4), type = oper, isherm = True\n",
      "Qobj data =\n",
      "[[1. 0. 0. 0.]\n",
      " [0. 1. 0. 0.]\n",
      " [0. 0. 1. 0.]\n",
      " [0. 0. 0. 1.]]\n",
      "trace: 0.0\n",
      "trace: -7.216449660063518e-15\n",
      "trace: -1.3961054534661343e-14\n",
      "trace: -2.09277040141842e-14\n",
      "O: Quantum object: dims = [[2, 2], [2, 2]], shape = (4, 4), type = oper, isherm = True\n",
      "Qobj data =\n",
      "[[0. 1. 0. 0.]\n",
      " [1. 0. 0. 0.]\n",
      " [0. 0. 0. 1.]\n",
      " [0. 0. 1. 0.]]\n",
      "trace: 0.0\n",
      "trace: (0.473873732375372-1.1102230246251565e-16j)\n",
      "trace: (0.37040069885809856-6.938893903907228e-17j)\n",
      "trace: (0.27945682528672283-5.551115123125783e-17j)\n",
      "O: Quantum object: dims = [[2, 2], [2, 2]], shape = (4, 4), type = oper, isherm = True\n",
      "Qobj data =\n",
      "[[0.+0.j 0.-1.j 0.+0.j 0.+0.j]\n",
      " [0.+1.j 0.+0.j 0.+0.j 0.+0.j]\n",
      " [0.+0.j 0.+0.j 0.+0.j 0.-1.j]\n",
      " [0.+0.j 0.+0.j 0.+1.j 0.+0.j]]\n",
      "trace: 0.0\n",
      "trace: 0.16151260159112235\n",
      "trace: 0.07292321656233185\n",
      "trace: (-0.13520552335821345-4.163336342344337e-17j)\n",
      "O: Quantum object: dims = [[2, 2], [2, 2]], shape = (4, 4), type = oper, isherm = True\n",
      "Qobj data =\n",
      "[[ 1.  0.  0.  0.]\n",
      " [ 0. -1.  0.  0.]\n",
      " [ 0.  0.  1.  0.]\n",
      " [ 0.  0.  0. -1.]]\n",
      "trace: 0.0\n",
      "trace: -0.20696274799104925\n",
      "trace: 0.2398313122183329\n",
      "trace: 0.10408097655058107\n",
      "O: Quantum object: dims = [[2, 2], [2, 2]], shape = (4, 4), type = oper, isherm = True\n",
      "Qobj data =\n",
      "[[0. 0. 1. 0.]\n",
      " [0. 0. 0. 1.]\n",
      " [1. 0. 0. 0.]\n",
      " [0. 1. 0. 0.]]\n",
      "trace: 0.0\n",
      "trace: (0.07162709477837788+1.3877787807814457e-17j)\n",
      "trace: (0.10707806839429965-1.3877787807814457e-16j)\n",
      "trace: (0.08791781896849173-2.7755575615628914e-17j)\n",
      "O: Quantum object: dims = [[2, 2], [2, 2]], shape = (4, 4), type = oper, isherm = True\n",
      "Qobj data =\n",
      "[[0.+0.j 0.+0.j 0.-1.j 0.+0.j]\n",
      " [0.+0.j 0.+0.j 0.+0.j 0.-1.j]\n",
      " [0.+1.j 0.+0.j 0.+0.j 0.+0.j]\n",
      " [0.+0.j 0.+1.j 0.+0.j 0.+0.j]]\n",
      "trace: 0.0\n",
      "trace: (-0.12930414706009247-1.3877787807814457e-17j)\n",
      "trace: (-0.24473053745817802-4.85722573273506e-17j)\n",
      "trace: (-0.29274537849559135-2.0816681711721685e-17j)\n",
      "O: Quantum object: dims = [[2, 2], [2, 2]], shape = (4, 4), type = oper, isherm = True\n",
      "Qobj data =\n",
      "[[ 1.  0.  0.  0.]\n",
      " [ 0.  1.  0.  0.]\n",
      " [ 0.  0. -1.  0.]\n",
      " [ 0.  0.  0. -1.]]\n",
      "trace: 0.0\n",
      "trace: 0.176200079377412\n",
      "trace: 0.4511331384838841\n",
      "trace: 0.35635242199545475\n",
      "O: Quantum object: dims = [[2, 2], [2, 2]], shape = (4, 4), type = oper, isherm = True\n",
      "Qobj data =\n",
      "[[1. 0. 0. 0.]\n",
      " [0. 1. 0. 0.]\n",
      " [0. 0. 1. 0.]\n",
      " [0. 0. 0. 1.]]\n",
      "trace: 0.0\n",
      "trace: -6.689093723366568e-15\n",
      "trace: -1.3461454173580023e-14\n",
      "trace: -2.015054789694659e-14\n",
      "O: Quantum object: dims = [[2, 2], [2, 2]], shape = (4, 4), type = oper, isherm = True\n",
      "Qobj data =\n",
      "[[0. 1. 0. 0.]\n",
      " [1. 0. 0. 0.]\n",
      " [0. 0. 0. 1.]\n",
      " [0. 0. 1. 0.]]\n",
      "trace: 0.0\n",
      "trace: (-0.11627923668840845-1.3877787807814457e-17j)\n",
      "trace: (0.12070852694152667-1.3877787807814457e-17j)\n",
      "trace: (0.11604712595150024-2.0816681711721685e-17j)\n",
      "O: Quantum object: dims = [[2, 2], [2, 2]], shape = (4, 4), type = oper, isherm = True\n",
      "Qobj data =\n",
      "[[0.+0.j 0.-1.j 0.+0.j 0.+0.j]\n",
      " [0.+1.j 0.+0.j 0.+0.j 0.+0.j]\n",
      " [0.+0.j 0.+0.j 0.+0.j 0.-1.j]\n",
      " [0.+0.j 0.+0.j 0.+1.j 0.+0.j]]\n",
      "trace: 0.0\n",
      "trace: 0.37813312184241915\n",
      "trace: (-0.6533680735676382+5.551115123125783e-17j)\n",
      "trace: -0.24891995916901274\n",
      "O: Quantum object: dims = [[2, 2], [2, 2]], shape = (4, 4), type = oper, isherm = True\n",
      "Qobj data =\n",
      "[[ 1.  0.  0.  0.]\n",
      " [ 0. -1.  0.  0.]\n",
      " [ 0.  0.  1.  0.]\n",
      " [ 0.  0.  0. -1.]]\n",
      "trace: 0.0\n",
      "trace: 0.07274585406265291\n",
      "trace: 0.07624471936315311\n",
      "trace: 0.01966413789704613\n",
      "O: Quantum object: dims = [[2, 2], [2, 2]], shape = (4, 4), type = oper, isherm = True\n",
      "Qobj data =\n",
      "[[0. 0. 1. 0.]\n",
      " [0. 0. 0. 1.]\n",
      " [1. 0. 0. 0.]\n",
      " [0. 1. 0. 0.]]\n",
      "trace: 0.0\n",
      "trace: (0.26849306434044495-2.0816681711721685e-17j)\n",
      "trace: (0.2180745715292236-5.551115123125783e-17j)\n",
      "trace: (0.16274350367965087+5.551115123125783e-17j)\n",
      "O: Quantum object: dims = [[2, 2], [2, 2]], shape = (4, 4), type = oper, isherm = True\n",
      "Qobj data =\n",
      "[[0.+0.j 0.+0.j 0.-1.j 0.+0.j]\n",
      " [0.+0.j 0.+0.j 0.+0.j 0.-1.j]\n",
      " [0.+1.j 0.+0.j 0.+0.j 0.+0.j]\n",
      " [0.+0.j 0.+1.j 0.+0.j 0.+0.j]]\n",
      "trace: 0.0\n",
      "trace: -0.35474645709972813\n",
      "trace: -0.4183017338489896\n",
      "trace: (-0.5137293826214052+5.551115123125783e-17j)\n",
      "O: Quantum object: dims = [[2, 2], [2, 2]], shape = (4, 4), type = oper, isherm = True\n",
      "Qobj data =\n",
      "[[ 1.  0.  0.  0.]\n",
      " [ 0.  1.  0.  0.]\n",
      " [ 0.  0. -1.  0.]\n",
      " [ 0.  0.  0. -1.]]\n",
      "trace: 0.0\n",
      "trace: 0.6855704551519848\n",
      "trace: 0.3668352196429471\n",
      "trace: 0.18275390747740633\n",
      "3.182641583800698\n"
     ]
    },
    {
     "name": "stderr",
     "output_type": "stream",
     "text": [
      "c:\\Users\\Admin\\Desktop\\BFP\\quantum-channel-approximation\\q_lab_toolbox\\training_data.py:84: ComplexWarning: Casting complex values to real discards the imaginary part\n",
      "  Ess[k, :] = np.array([(O * qt.Qobj(rho, dims=dims)).tr() for rho in rhos])\n"
     ]
    }
   ],
   "source": [
    "decay_system = DecaySystem(\n",
    "    ryd_interaction=0.1, omegas=(0.2, 0.4), m=2, gammas=(0.3, 0.35)\n",
    ")\n",
    "\n",
    "H = create_hamiltonian(decay_system)\n",
    "An = create_jump_operators(decay_system)\n",
    "\n",
    "\n",
    "rho00 = _rho_rand_haar(m=2, seed=3)\n",
    "rho10 = _rho_rand_haar(m=2, seed=4)\n",
    "\n",
    "N = 3\n",
    "ts = np.linspace(0, 10, N + 1)\n",
    "\n",
    "\n",
    "rhoss = mk_training_data_states([rho00, rho10], ts, decay_system)\n",
    "\n",
    "\n",
    "circuit = HardwareAnsatz(\n",
    "    m=2, n_qubits=5, depth=5, gate_type=\"ryd\", structure=\"triangle\"\n",
    ")\n",
    "\n",
    "Os = _order_n_observables(m=2, n=1)\n",
    "\n",
    "training_data = rhoss, Os\n",
    "\n",
    "print(circuit.J_from_states(circuit.init_flat_theta(), training_data))"
   ]
  },
  {
   "cell_type": "code",
   "execution_count": null,
   "metadata": {},
   "outputs": [],
   "source": []
  }
 ],
 "metadata": {
  "kernelspec": {
   "display_name": "venv",
   "language": "python",
   "name": "python3"
  },
  "language_info": {
   "codemirror_mode": {
    "name": "ipython",
    "version": 3
   },
   "file_extension": ".py",
   "mimetype": "text/x-python",
   "name": "python",
   "nbconvert_exporter": "python",
   "pygments_lexer": "ipython3",
   "version": "3.11.5"
  }
 },
 "nbformat": 4,
 "nbformat_minor": 2
}
