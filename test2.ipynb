{
 "cells": [
  {
   "cell_type": "code",
   "execution_count": 1,
   "metadata": {},
   "outputs": [],
   "source": [
    "from q_lab_toolbox.target_systems import DecaySystem\n",
    "from q_lab_toolbox.hamiltonians import create_hamiltonian\n",
    "from q_lab_toolbox.jump_operators import create_jump_operators"
   ]
  },
  {
   "cell_type": "code",
   "execution_count": 2,
   "metadata": {},
   "outputs": [],
   "source": [
    "decay_system = DecaySystem(ryd_interaction=0.1, omegas=(0.2, 0.4), m=2, gammas=(0.3, 0.35))"
   ]
  },
  {
   "cell_type": "code",
   "execution_count": 3,
   "metadata": {},
   "outputs": [],
   "source": [
    "H = create_hamiltonian(decay_system)\n",
    "An = create_jump_operators(decay_system)"
   ]
  },
  {
   "cell_type": "code",
   "execution_count": 4,
   "metadata": {},
   "outputs": [],
   "source": [
    "from q_lab_toolbox.initial_states import _rho_rand_haar\n",
    "\n",
    "rho0 = _rho_rand_haar(m=2, seed=3)"
   ]
  },
  {
   "cell_type": "code",
   "execution_count": 5,
   "metadata": {},
   "outputs": [
    {
     "data": {
      "text/latex": [
       "Quantum object: dims = [[2, 2], [2, 2]], shape = (4, 4), type = oper, isherm = True $ \\\\ \\left(\\begin{matrix}0.431 & (-0.036+0.106j) & (-0.210+0.321j) & (-0.272+0.105j)\\\\(-0.036-0.106j) & 0.029 & (0.097+0.024j) & (0.049+0.058j)\\\\(-0.210-0.321j) & (0.097-0.024j) & 0.342 & (0.211+0.152j)\\\\(-0.272-0.105j) & (0.049-0.058j) & (0.211-0.152j) & 0.198\\\\\\end{matrix}\\right)$"
      ],
      "text/plain": [
       "Quantum object: dims = [[2, 2], [2, 2]], shape = (4, 4), type = oper, isherm = True\n",
       "Qobj data =\n",
       "[[ 0.43099531+0.j         -0.03645119+0.10609661j -0.20985646+0.32143067j\n",
       "  -0.27240032+0.10532724j]\n",
       " [-0.03645119-0.10609661j  0.02920027+0.j          0.09687397+0.02447481j\n",
       "   0.04896615+0.05814784j]\n",
       " [-0.20985646-0.32143067j  0.09687397-0.02447481j  0.34190027+0.j\n",
       "   0.21118646+0.15186759j]\n",
       " [-0.27240032-0.10532724j  0.04896615-0.05814784j  0.21118646-0.15186759j\n",
       "   0.19790415+0.j        ]]"
      ]
     },
     "execution_count": 5,
     "metadata": {},
     "output_type": "execute_result"
    }
   ],
   "source": [
    "rho0"
   ]
  },
  {
   "cell_type": "code",
   "execution_count": 6,
   "metadata": {},
   "outputs": [],
   "source": [
    "N=10"
   ]
  },
  {
   "cell_type": "code",
   "execution_count": 7,
   "metadata": {},
   "outputs": [],
   "source": [
    "import numpy as np\n",
    "\n",
    "ts = np.linspace(0, 10, N+1)"
   ]
  },
  {
   "cell_type": "code",
   "execution_count": 8,
   "metadata": {},
   "outputs": [],
   "source": [
    "import qutip as qt\n",
    "from training_data import solve_lindblad, mk_training_data_states\n",
    "\n",
    "rhos = solve_lindblad(rho0, ts, decay_system)"
   ]
  },
  {
   "cell_type": "code",
   "execution_count": 9,
   "metadata": {},
   "outputs": [],
   "source": [
    "rhoss = mk_training_data_states([rho0, rho0], ts, decay_system)"
   ]
  },
  {
   "cell_type": "code",
   "execution_count": null,
   "metadata": {},
   "outputs": [],
   "source": []
  }
 ],
 "metadata": {
  "kernelspec": {
   "display_name": "venv",
   "language": "python",
   "name": "python3"
  },
  "language_info": {
   "codemirror_mode": {
    "name": "ipython",
    "version": 3
   },
   "file_extension": ".py",
   "mimetype": "text/x-python",
   "name": "python",
   "nbconvert_exporter": "python",
   "pygments_lexer": "ipython3",
   "version": "3.11.5"
  }
 },
 "nbformat": 4,
 "nbformat_minor": 2
}
