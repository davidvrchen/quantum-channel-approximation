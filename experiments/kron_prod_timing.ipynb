{
 "cells": [
  {
   "cell_type": "code",
   "execution_count": 1,
   "metadata": {},
   "outputs": [],
   "source": [
    "import timeit as ti\n",
    "from numba import jit, prange\n",
    "from multiprocessing import Pool\n",
    "import numpy as np"
   ]
  },
  {
   "cell_type": "markdown",
   "metadata": {},
   "source": [
    "In this file I tested the performance between linear and recursive / treelike kronecker multiplication. \n",
    "\n",
    "Note that these functions are implemented in `q_lab_toolbox.unitary_circuits` with the turnover point found in this experiment hardcoded."
   ]
  },
  {
   "cell_type": "code",
   "execution_count": 2,
   "metadata": {},
   "outputs": [],
   "source": [
    "# defining the functions as done in q_lab_toolbox.unitary_circuits.py\n",
    "# minus the documentation and type hints\n",
    "\n",
    "@jit(forceobj=True)\n",
    "def kron_gates_l(single_gates):\n",
    "    result = single_gates[0]\n",
    "    for gate in single_gates[1:]:\n",
    "        result = np.kron(result, gate)\n",
    "\n",
    "    return result\n",
    "\n",
    "\n",
    "@jit(parallel=True)\n",
    "def kron_neighbours_even(single_gates):\n",
    "\n",
    "    l, dims, _ = single_gates.shape\n",
    "\n",
    "    double_gates = np.zeros( (l//2, dims**2, dims**2) )\n",
    "\n",
    "    for i in prange(0, l//2):\n",
    "        double_gates[i,:,:] = np.kron(single_gates[i*2], single_gates[i*2 + 1])\n",
    "\n",
    "    return double_gates\n",
    "\n",
    "\n",
    "def kron_neighbours2(single_gates):\n",
    "    \"\"\"Attempt with multiprocessing, but turns out to be much slower\n",
    "    than using numba.jit w/ parallel=True\"\"\"\n",
    "\n",
    "    l, r = single_gates[0::2, :, :], single_gates[1::2, :, :]\n",
    "\n",
    "    with Pool() as p:\n",
    "        doubles = p.starmap(np.kron, zip(l, r))\n",
    "\n",
    "    return doubles\n",
    "\n",
    "@jit(forceobj=True)\n",
    "def kron_gates_t(single_gates):\n",
    "    \"\"\"Recursively multiply the neighbouring gates.\n",
    "    When the block size gets below the turnover point the linear\n",
    "    kron_gates_l is used as it is more efficient in this usecase.\"\"\"\n",
    "    TURNOVER = 3\n",
    "\n",
    "    l = len(single_gates)\n",
    "\n",
    "    if l > TURNOVER:\n",
    "        if l % 2 == 0:\n",
    "            return kron_gates_t(kron_neighbours_even(single_gates))\n",
    "        return np.kron(kron_gates_t(kron_neighbours_even(single_gates[:-1, :, :])), single_gates[-1])\n",
    "\n",
    "    return kron_gates_l(np.array(single_gates))"
   ]
  },
  {
   "cell_type": "markdown",
   "metadata": {},
   "source": [
    "Now follows the timing experiment.\n",
    "\n",
    "Expectation:\n",
    "* `kron_gates_t` gates is faster when multiplying many gates due to parallel computations\n",
    "* `kron_gates_l` is faster for multiplying a few gates together due to less overhead\n",
    "\n",
    "This leads us with the task of finding at which point `kron_gates_t` outperforms `kron_gates_l`.\n",
    "This is the turnover point."
   ]
  },
  {
   "cell_type": "code",
   "execution_count": 3,
   "metadata": {},
   "outputs": [],
   "source": [
    "# first define some testing data\n",
    "\n",
    "# a test with small matrices\n",
    "test_small = lambda tp : np.random.rand(tp, 2, 2)\n"
   ]
  },
  {
   "cell_type": "code",
   "execution_count": 4,
   "metadata": {},
   "outputs": [
    {
     "name": "stderr",
     "output_type": "stream",
     "text": [
      "C:\\Users\\Admin\\AppData\\Local\\Temp\\ipykernel_19132\\2520788973.py:4: NumbaWarning: \u001b[1m\n",
      "Compilation is falling back to object mode WITHOUT looplifting enabled because Function \"kron_gates_l\" failed type inference due to: \u001b[1m\u001b[1m\u001b[1mNo implementation of function Function(<function kron at 0x000002E06701FB00>) found for signature:\n",
      " \n",
      " >>> kron(array(float64, 2d, C), array(float64, 2d, A))\n",
      " \n",
      "There are 2 candidate implementations:\n",
      "\u001b[1m  - Of which 2 did not match due to:\n",
      "  Overload in function 'kron_impl': File: numba\\np\\linalg.py: Line 2785.\n",
      "    With argument(s): '(array(float64, 2d, C), array(float64, 2d, A))':\u001b[0m\n",
      "\u001b[1m   Rejected as the implementation raised a specific error:\n",
      "     TypingError: \u001b[1mnp.linalg.kron only supports 'C' or 'F' layout input arrays. Received an input of layout 'A'.\u001b[0m\u001b[0m\n",
      "  raised from c:\\Users\\Admin\\Desktop\\BFP\\quantum-channel-approximation\\venv\\Lib\\site-packages\\numba\\np\\linalg.py:2726\n",
      "\u001b[0m\n",
      "\u001b[0m\u001b[1mDuring: resolving callee type: Function(<function kron at 0x000002E06701FB00>)\u001b[0m\n",
      "\u001b[0m\u001b[1mDuring: typing of call at C:\\Users\\Admin\\AppData\\Local\\Temp\\ipykernel_19132\\2520788973.py (8)\n",
      "\u001b[0m\n",
      "\u001b[1m\n",
      "File \"..\\..\\..\\..\\AppData\\Local\\Temp\\ipykernel_19132\\2520788973.py\", line 8:\u001b[0m\n",
      "\u001b[1m<source missing, REPL/exec in use?>\u001b[0m\n",
      "\u001b[0m\n",
      "  @jit(forceobj=True)\n"
     ]
    },
    {
     "name": "stdout",
     "output_type": "stream",
     "text": [
      "Testing kron_gates_l for multiplying 2 gates \n",
      "        0.54207480000332 \n",
      "Testing kron_gates_t for multiplying 2 gates \n",
      "        0.21177090000128374 \n",
      "PREFER RECURSIVE (i=2)\n",
      "Testing kron_gates_l for multiplying 3 gates \n",
      "        0.005069399951025844 \n",
      "Testing kron_gates_t for multiplying 3 gates \n",
      "        0.00526120001450181 \n",
      "PREFER LINEAR (i=3)\n",
      "Testing kron_gates_l for multiplying 4 gates \n",
      "        0.008285400050226599 \n",
      "Testing kron_gates_t for multiplying 4 gates \n",
      "        3.9377805999829434 \n",
      "PREFER LINEAR (i=4)\n",
      "Testing kron_gates_l for multiplying 5 gates \n",
      "        0.01168699999107048 \n",
      "Testing kron_gates_t for multiplying 5 gates \n",
      "        0.01159509998979047 \n",
      "PREFER RECURSIVE (i=5)\n",
      "Testing kron_gates_l for multiplying 6 gates \n",
      "        0.01763990003382787 \n",
      "Testing kron_gates_t for multiplying 6 gates \n",
      "        0.012430400005541742 \n",
      "PREFER RECURSIVE (i=6)\n",
      "Testing kron_gates_l for multiplying 7 gates \n",
      "        0.03284980001626536 \n",
      "Testing kron_gates_t for multiplying 7 gates \n",
      "        0.01472420000936836 \n",
      "PREFER RECURSIVE (i=7)\n",
      "Testing kron_gates_l for multiplying 8 gates \n",
      "        0.08211229997687042 \n",
      "Testing kron_gates_t for multiplying 8 gates \n",
      "        0.027451700007077307 \n",
      "PREFER RECURSIVE (i=8)\n",
      "Testing kron_gates_l for multiplying 9 gates \n",
      "        0.3420401999610476 \n",
      "Testing kron_gates_t for multiplying 9 gates \n",
      "        0.028229799994733185 \n",
      "PREFER RECURSIVE (i=9)\n"
     ]
    }
   ],
   "source": [
    "verbose = True\n",
    "\n",
    "for i in range(2, 10):\n",
    "    test = test_small(i)\n",
    "\n",
    "    tl = ti.timeit(lambda: kron_gates_l(test.copy()), number=100)\n",
    "    tt = ti.timeit(lambda: kron_gates_t(test.copy()), number=100)\n",
    "\n",
    "    if verbose:\n",
    "        print(f\"\"\"Testing kron_gates_l for multiplying {i} gates \\r\n",
    "        {tl} \"\"\")\n",
    "\n",
    "        print(f\"\"\"Testing kron_gates_t for multiplying {i} gates \\r\n",
    "        {tt} \"\"\")\n",
    "\n",
    "    if tl < tt:\n",
    "        print(f\"PREFER LINEAR (i={i})\")\n",
    "\n",
    "    if tt < tl:\n",
    "        print(f\"PREFER RECURSIVE (i={i})\")"
   ]
  },
  {
   "cell_type": "markdown",
   "metadata": {},
   "source": [
    "After trying this a few times it seems that settings the turnover point at 3 is fair"
   ]
  },
  {
   "cell_type": "markdown",
   "metadata": {},
   "source": [
    "Lastly note that kron_neighbours2 (which uses multiprocessing) is slower than kron_neighbours_even (which uses numba)"
   ]
  },
  {
   "cell_type": "code",
   "execution_count": 5,
   "metadata": {},
   "outputs": [],
   "source": [
    "verbose = True\n",
    "\n",
    "# note only taking steps of 2 because the numba version\n",
    "# only works for even input\n",
    "for i in range(2, 2, 2):\n",
    "    test = test_small(i)\n",
    "\n",
    "    t2 = ti.timeit(lambda: kron_neighbours2(test.copy()), number=100)\n",
    "    te = ti.timeit(lambda: kron_neighbours_even(test.copy()), number=100)\n",
    "\n",
    "    if verbose:\n",
    "        print(\n",
    "            f\"\"\"Testing kron_neighbours2 for multiplying {i} gates \\r\n",
    "        {t2} \"\"\"\n",
    "        )\n",
    "\n",
    "        print(\n",
    "            f\"\"\"Testing kron_neighbours_even for multiplying {i} gates \\r\n",
    "        {te} \"\"\"\n",
    "        )\n",
    "\n",
    "    if t2 < te:\n",
    "        print(f\"PREFER kron_neighbours2 (i={i})\")\n",
    "    elif te < t2:\n",
    "        print(f\"PREFER kron_neighbours_even (i={i})\")\n",
    "    else:\n",
    "        print(f\"EQUAL PERFORMANCE (i={i})\")"
   ]
  },
  {
   "cell_type": "code",
   "execution_count": null,
   "metadata": {},
   "outputs": [],
   "source": []
  }
 ],
 "metadata": {
  "kernelspec": {
   "display_name": "venv",
   "language": "python",
   "name": "python3"
  },
  "language_info": {
   "codemirror_mode": {
    "name": "ipython",
    "version": 3
   },
   "file_extension": ".py",
   "mimetype": "text/x-python",
   "name": "python",
   "nbconvert_exporter": "python",
   "pygments_lexer": "ipython3",
   "version": "3.11.5"
  }
 },
 "nbformat": 4,
 "nbformat_minor": 2
}
