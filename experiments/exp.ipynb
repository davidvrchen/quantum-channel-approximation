{
 "cells": [
  {
   "cell_type": "code",
   "execution_count": 147,
   "metadata": {},
   "outputs": [],
   "source": [
    "import numpy as np\n",
    "def matmul_acc(Us: np.ndarray) -> np.ndarray:\n",
    "\n",
    "    w, dims, _ = Us.shape\n",
    "\n",
    "    U_lower = np.zeros((w, dims, dims), dtype=np.complex128)\n",
    "    U_upper = np.zeros((w, dims, dims), dtype=np.complex128)\n",
    "\n",
    "    U_l_acc = np.identity(dims)\n",
    "    U_u_acc = np.identity(dims)\n",
    "\n",
    "    for i, U in enumerate(Us):\n",
    "        U_l_acc = U_l_acc @ U\n",
    "        U_lower[i, :, :] = U_l_acc\n",
    "\n",
    "    for i, U in enumerate(Us[::-1]):\n",
    "        U_u_acc = U @ U_u_acc\n",
    "        U_upper[-i - 1, :, :] = U_u_acc\n",
    "\n",
    "    return U_lower, Us, U_upper"
   ]
  },
  {
   "cell_type": "code",
   "execution_count": 159,
   "metadata": {},
   "outputs": [
    {
     "data": {
      "text/plain": [
       "(8.526512829121202e-14+0j)"
      ]
     },
     "execution_count": 159,
     "metadata": {},
     "output_type": "execute_result"
    }
   ],
   "source": [
    "ul, us, uu = matmul_acc(np.random.rand(10, 4, 4))\n",
    "np.sum(ul[-1] - uu[0])"
   ]
  },
  {
   "cell_type": "code",
   "execution_count": null,
   "metadata": {},
   "outputs": [],
   "source": []
  }
 ],
 "metadata": {
  "kernelspec": {
   "display_name": "venv",
   "language": "python",
   "name": "python3"
  },
  "language_info": {
   "codemirror_mode": {
    "name": "ipython",
    "version": 3
   },
   "file_extension": ".py",
   "mimetype": "text/x-python",
   "name": "python",
   "nbconvert_exporter": "python",
   "pygments_lexer": "ipython3",
   "version": "3.11.5"
  }
 },
 "nbformat": 4,
 "nbformat_minor": 2
}
