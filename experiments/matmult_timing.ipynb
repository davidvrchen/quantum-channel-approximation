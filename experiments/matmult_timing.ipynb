{
 "cells": [
  {
   "cell_type": "code",
   "execution_count": 1,
   "metadata": {},
   "outputs": [],
   "source": [
    "import timeit\n",
    "from numba import jit, prange\n",
    "import numpy as np\n",
    "from functools import lru_cache, wraps"
   ]
  },
  {
   "cell_type": "code",
   "execution_count": 2,
   "metadata": {},
   "outputs": [],
   "source": [
    "def npCacheMap(*args, **kwargs):\n",
    "    \"\"\"LRU cache implementation for functions whose FIRST parameter is a numpy array\n",
    "    forked from: https://gist.github.com/Susensio/61f4fee01150caaac1e10fc5f005eb75\"\"\"\n",
    "\n",
    "    def decorator(function):\n",
    "        @wraps(function)\n",
    "        def wrapper(np_array, *args, **kwargs):\n",
    "            hashable_array = array_to_tuple(np_array)#tuple(map(tuple, np_array))\n",
    "            return cached_wrapper(hashable_array, *args, **kwargs)\n",
    "\n",
    "        @lru_cache(*args, **kwargs)\n",
    "        def cached_wrapper(hashable_array, *args, **kwargs):\n",
    "            array = np.array(hashable_array)\n",
    "            return function(array, *args, **kwargs)\n",
    "        \n",
    "        def array_to_tuple(np_array):\n",
    "            \"\"\"Iterates recursivelly.\"\"\"\n",
    "            try:\n",
    "                return tuple(array_to_tuple(_) for _ in np_array)\n",
    "            except TypeError:\n",
    "                return np_array\n",
    "\n",
    "        # copy lru_cache attributes over too\n",
    "        wrapper.cache_info = cached_wrapper.cache_info\n",
    "        wrapper.cache_clear = cached_wrapper.cache_clear\n",
    "        return wrapper\n",
    "\n",
    "    return decorator"
   ]
  },
  {
   "cell_type": "code",
   "execution_count": 3,
   "metadata": {},
   "outputs": [],
   "source": [
    "from joblib import Memory\n",
    "location = \"./cachedir\"\n",
    "memory = Memory(location, verbose=0)"
   ]
  },
  {
   "cell_type": "code",
   "execution_count": 4,
   "metadata": {},
   "outputs": [],
   "source": [
    "memory.clear(warn=False)"
   ]
  },
  {
   "cell_type": "code",
   "execution_count": 5,
   "metadata": {},
   "outputs": [],
   "source": [
    "@jit(forceobj=True)\n",
    "def matmult_l(us):\n",
    "    result = us[0]\n",
    "    for u in us[1:]:\n",
    "        result = result @ u\n",
    "\n",
    "    return result\n",
    "\n",
    "\n",
    "@jit(parallel=True)\n",
    "def matmult_even(us):\n",
    "\n",
    "    l, dims, _ = us.shape\n",
    "\n",
    "    double_us = np.zeros((l // 2, dims, dims))\n",
    "\n",
    "    for i in prange(0, l // 2):\n",
    "        double_us[i, :, :] = us[i * 2 + 1] @ us[i * 2]\n",
    "\n",
    "    return double_us\n",
    "\n",
    "# @npCacheMap()\n",
    "@jit(forceobj=True)\n",
    "def matmult_t(us):\n",
    "    \"\"\"Recursively multiply the neighbouring gates.\n",
    "    When the block size gets below the turnover point the linear\n",
    "    kron_gates_l is used as it is more efficient in this usecase.\"\"\"\n",
    "    TURNOVER = 12\n",
    "\n",
    "    l = len(us)\n",
    "\n",
    "    if l > TURNOVER:\n",
    "        if l % 2 == 0:\n",
    "            return matmult_t(matmult_even(us))\n",
    "        return us[-1] @ matmult_t( matmult_even(us[:-1, :, :]))\n",
    "\n",
    "    return matmult_l(us)"
   ]
  },
  {
   "cell_type": "code",
   "execution_count": 6,
   "metadata": {},
   "outputs": [],
   "source": [
    "# first define some testing data\n",
    "\n",
    "\n",
    "test_f = lambda tp: np.random.rand(tp, 32, 32)"
   ]
  },
  {
   "cell_type": "code",
   "execution_count": 7,
   "metadata": {},
   "outputs": [
    {
     "name": "stderr",
     "output_type": "stream",
     "text": [
      "C:\\Users\\Admin\\AppData\\Local\\Temp\\ipykernel_8140\\2293791572.py:5: NumbaPerformanceWarning: \u001b[1m\u001b[1m'@' is faster on contiguous arrays, called on (Array(float64, 2, 'C', False, aligned=True), Array(float64, 2, 'A', False, aligned=True))\u001b[0m\u001b[0m\n",
      "  result = result @ u\n"
     ]
    },
    {
     "data": {
      "text/plain": [
       "[True, True, True, True, True, True, True, True, True]"
      ]
     },
     "execution_count": 7,
     "metadata": {},
     "output_type": "execute_result"
    }
   ],
   "source": [
    "list(map(lambda a: (matmult_l(a) == matmult_t(a)).all(), [test_f(i) for i in range(1, 10)]))"
   ]
  },
  {
   "cell_type": "code",
   "execution_count": 10,
   "metadata": {},
   "outputs": [
    {
     "name": "stdout",
     "output_type": "stream",
     "text": [
      "Testing natmult_l for multiplying 2 gates \n",
      "        0.0066094999929191545 \n",
      "Testing matmult_t for multiplying 2 gates \n",
      "        0.006867100004456006 \n",
      "PREFER LINEAR (i=2)\n",
      "Testing natmult_l for multiplying 3 gates \n",
      "        0.011272400006419048 \n",
      "Testing matmult_t for multiplying 3 gates \n",
      "        0.011949399995501153 \n",
      "PREFER LINEAR (i=3)\n",
      "Testing natmult_l for multiplying 4 gates \n",
      "        0.01409589999821037 \n",
      "Testing matmult_t for multiplying 4 gates \n",
      "        0.014186999993398786 \n",
      "PREFER LINEAR (i=4)\n",
      "Testing natmult_l for multiplying 5 gates \n",
      "        0.018018900009337813 \n",
      "Testing matmult_t for multiplying 5 gates \n",
      "        0.018075300002237782 \n",
      "PREFER LINEAR (i=5)\n",
      "Testing natmult_l for multiplying 6 gates \n",
      "        0.02061429999594111 \n",
      "Testing matmult_t for multiplying 6 gates \n",
      "        0.021542699993005954 \n",
      "PREFER LINEAR (i=6)\n",
      "Testing natmult_l for multiplying 7 gates \n",
      "        0.02367769999545999 \n",
      "Testing matmult_t for multiplying 7 gates \n",
      "        0.023971899994648993 \n",
      "PREFER LINEAR (i=7)\n",
      "Testing natmult_l for multiplying 8 gates \n",
      "        0.028399700007867068 \n",
      "Testing matmult_t for multiplying 8 gates \n",
      "        0.02960480000183452 \n",
      "PREFER LINEAR (i=8)\n",
      "Testing natmult_l for multiplying 9 gates \n",
      "        0.03374549999716692 \n",
      "Testing matmult_t for multiplying 9 gates \n",
      "        0.031689099996583536 \n",
      "PREFER RECURSIVE (i=9)\n"
     ]
    }
   ],
   "source": [
    "verbose = True\n",
    "\n",
    "for i in range(2,10):\n",
    "    test = test_f(i)\n",
    "\n",
    "    tl = timeit.timeit(lambda: matmult_l(test.copy()), number=1000)\n",
    "    tt = timeit.timeit(lambda: matmult_t(test.copy()), number=1000)\n",
    "\n",
    "    if verbose:\n",
    "        print(\n",
    "            f\"\"\"Testing natmult_l for multiplying {i} gates \\r\n",
    "        {tl} \"\"\"\n",
    "        )\n",
    "\n",
    "        print(\n",
    "            f\"\"\"Testing matmult_t for multiplying {i} gates \\r\n",
    "        {tt} \"\"\"\n",
    "        )\n",
    "\n",
    "    if tl < tt:\n",
    "        print(f\"PREFER LINEAR (i={i})\")\n",
    "\n",
    "    if tt < tl:\n",
    "        print(f\"PREFER RECURSIVE (i={i})\")"
   ]
  },
  {
   "cell_type": "code",
   "execution_count": null,
   "metadata": {},
   "outputs": [],
   "source": []
  }
 ],
 "metadata": {
  "kernelspec": {
   "display_name": "venv",
   "language": "python",
   "name": "python3"
  },
  "language_info": {
   "codemirror_mode": {
    "name": "ipython",
    "version": 3
   },
   "file_extension": ".py",
   "mimetype": "text/x-python",
   "name": "python",
   "nbconvert_exporter": "python",
   "pygments_lexer": "ipython3",
   "version": "3.11.5"
  }
 },
 "nbformat": 4,
 "nbformat_minor": 2
}
