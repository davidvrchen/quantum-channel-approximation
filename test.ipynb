{
 "cells": [
  {
   "cell_type": "code",
   "execution_count": 1,
   "metadata": {},
   "outputs": [],
   "source": [
    "from q_lab_toolbox.training_data import RandomTrainingData, mk_training_data\n",
    "from q_lab_toolbox.target_systems import DecaySystem\n",
    "from q_lab_toolbox.readout_operators import OrdernObservables"
   ]
  },
  {
   "cell_type": "code",
   "execution_count": 2,
   "metadata": {},
   "outputs": [],
   "source": [
    "target = DecaySystem(ryd_interaction=0.1, \n",
    "                     omegas=(3.4, 0.2),\n",
    "                     m=2,\n",
    "                     gammas=(2, 1.2))"
   ]
  },
  {
   "cell_type": "code",
   "execution_count": 3,
   "metadata": {},
   "outputs": [],
   "source": [
    "Os = OrdernObservables(2, 1)"
   ]
  },
  {
   "cell_type": "code",
   "execution_count": 4,
   "metadata": {},
   "outputs": [],
   "source": [
    "data = RandomTrainingData(target_system=target,\n",
    "                          N=3,\n",
    "                          delta_T=0.1,\n",
    "                          seed=42,\n",
    "                          L=4,\n",
    "                          Os=Os)"
   ]
  },
  {
   "cell_type": "code",
   "execution_count": 8,
   "metadata": {},
   "outputs": [],
   "source": [
    "import numpy as np\n",
    "ts, Ess, Os = mk_training_data(data)"
   ]
  },
  {
   "cell_type": "code",
   "execution_count": 10,
   "metadata": {},
   "outputs": [],
   "source": [
    "np.save(\"test\", ts)\n",
    "np.save(\"test\", Ess)\n",
    "np.save(\"test\", Os)"
   ]
  },
  {
   "cell_type": "code",
   "execution_count": null,
   "metadata": {},
   "outputs": [],
   "source": []
  }
 ],
 "metadata": {
  "kernelspec": {
   "display_name": "venv",
   "language": "python",
   "name": "python3"
  },
  "language_info": {
   "codemirror_mode": {
    "name": "ipython",
    "version": 3
   },
   "file_extension": ".py",
   "mimetype": "text/x-python",
   "name": "python",
   "nbconvert_exporter": "python",
   "pygments_lexer": "ipython3",
   "version": "3.11.5"
  }
 },
 "nbformat": 4,
 "nbformat_minor": 2
}
