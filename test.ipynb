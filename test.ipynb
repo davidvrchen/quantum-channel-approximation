{
 "cells": [
  {
   "cell_type": "code",
   "execution_count": 113,
   "metadata": {},
   "outputs": [],
   "source": [
    "import numpy as np\n",
    "from numba import jit, prange\n",
    "import timeit"
   ]
  },
  {
   "cell_type": "code",
   "execution_count": 114,
   "metadata": {},
   "outputs": [],
   "source": [
    "def kron_gates_l(single_gates):\n",
    "    result = single_gates[0]\n",
    "\n",
    "\n",
    "    for gate in single_gates[1:]:\n",
    "\n",
    "        result = np.kron(result, gate)\n",
    "\n",
    "    return result\n",
    "\n",
    "\n",
    "@jit(parallel=True)\n",
    "def kron_neighbours_even(single_gates):\n",
    "\n",
    "    l, dims, _ = single_gates.shape\n",
    "\n",
    "    double_gates = np.zeros((l // 2, dims**2, dims**2), dtype=np.complex128)\n",
    "\n",
    "    for i in prange(0, l // 2):\n",
    "        double_gates[i, :, :] = np.kron(single_gates[i * 2], single_gates[i * 2 + 1])\n",
    "\n",
    "    return double_gates\n",
    "\n",
    "\n",
    "def kron_gates_t(single_gates):\n",
    "    \"\"\"Recursively multiply the neighbouring gates.\n",
    "    When the block size gets below the turnover point the linear\n",
    "    kron_gates_l is used as it is more efficient in this usecase.\"\"\"\n",
    "    TURNOVER = 3\n",
    "\n",
    "    l = len(single_gates)\n",
    "\n",
    "    if l > TURNOVER:\n",
    "        if l % 2 == 0:\n",
    "            return kron_gates_t(kron_neighbours_even(single_gates))\n",
    "        return np.kron(\n",
    "            kron_gates_t(kron_neighbours_even(single_gates[:-1, :, :])),\n",
    "            single_gates[-1],\n",
    "        )\n",
    "\n",
    "    return kron_gates_l(np.array(single_gates))"
   ]
  },
  {
   "cell_type": "code",
   "execution_count": 115,
   "metadata": {},
   "outputs": [],
   "source": [
    "def rz(thetas):\n",
    "\n",
    "    zero = np.zeros(thetas.shape)\n",
    "    exp_m_theta = np.exp(-1j * thetas / 2)\n",
    "    exp_theta = np.exp(1j * thetas / 2)\n",
    "\n",
    "    single_gates = np.einsum(\n",
    "        \"ijk->kji\", np.array([[exp_m_theta, zero], [zero, exp_theta]]), optimize=\"greedy\",\n",
    "    order=\"C\"\n",
    "    )\n",
    "\n",
    "    u_gates = kron_gates_t(single_gates)\n",
    "\n",
    "    return u_gates"
   ]
  },
  {
   "cell_type": "code",
   "execution_count": 116,
   "metadata": {},
   "outputs": [],
   "source": [
    "from pykronecker import KroneckerProduct\n",
    "def rz3(thetas):\n",
    "\n",
    "    zero = np.zeros(thetas.shape)\n",
    "    exp_m_theta = np.exp(-1j * thetas / 2)\n",
    "    exp_theta = np.exp(1j * thetas / 2)\n",
    "\n",
    "    single_gates = np.einsum(\n",
    "        \"ijk->kji\",\n",
    "        np.array([[exp_m_theta, zero], [zero, exp_theta]]),\n",
    "        optimize=\"greedy\",\n",
    "        # order=\"C\",\n",
    "    )\n",
    "\n",
    "    u_gates = KroneckerProduct(single_gates)\n",
    "\n",
    "    return u_gates"
   ]
  },
  {
   "cell_type": "code",
   "execution_count": 117,
   "metadata": {},
   "outputs": [],
   "source": [
    "def rz2(thetas):\n",
    "\n",
    "    gate = np.array([1])\n",
    "\n",
    "    for theta in thetas:\n",
    "        single_gate = np.array([[np.exp(-1j * theta / 2), 0], [0, np.exp(1j * theta / 2)]])\n",
    "        gate = np.kron(gate, single_gate)\n",
    "\n",
    "    return gate"
   ]
  },
  {
   "cell_type": "code",
   "execution_count": 124,
   "metadata": {},
   "outputs": [
    {
     "name": "stdout",
     "output_type": "stream",
     "text": [
      "4.32 ms ± 99.1 µs per loop (mean ± std. dev. of 7 runs, 100 loops each)\n"
     ]
    }
   ],
   "source": [
    "%timeit  rz3(np.ones(7)) @ rz3(np.ones(7)+1) @ rz3(np.ones(7)+2 ).to_array()"
   ]
  },
  {
   "cell_type": "code",
   "execution_count": 125,
   "metadata": {},
   "outputs": [
    {
     "name": "stdout",
     "output_type": "stream",
     "text": [
      "1.51 ms ± 130 µs per loop (mean ± std. dev. of 7 runs, 1,000 loops each)\n"
     ]
    }
   ],
   "source": [
    "%timeit rz(np.ones(7)) @ rz(np.ones(7)+1) @ rz(np.ones(7)+2 )"
   ]
  },
  {
   "cell_type": "code",
   "execution_count": null,
   "metadata": {},
   "outputs": [
    {
     "name": "stdout",
     "output_type": "stream",
     "text": [
      "346 µs ± 1.88 µs per loop (mean ± std. dev. of 7 runs, 1,000 loops each)\n"
     ]
    }
   ],
   "source": [
    "%timeit rz2(np.ones(7))"
   ]
  },
  {
   "cell_type": "code",
   "execution_count": null,
   "metadata": {},
   "outputs": [],
   "source": []
  }
 ],
 "metadata": {
  "kernelspec": {
   "display_name": "venv",
   "language": "python",
   "name": "python3"
  },
  "language_info": {
   "codemirror_mode": {
    "name": "ipython",
    "version": 3
   },
   "file_extension": ".py",
   "mimetype": "text/x-python",
   "name": "python",
   "nbconvert_exporter": "python",
   "pygments_lexer": "ipython3",
   "version": "3.11.5"
  }
 },
 "nbformat": 4,
 "nbformat_minor": 2
}
