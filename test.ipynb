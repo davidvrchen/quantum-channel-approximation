{
 "cells": [
  {
   "cell_type": "code",
   "execution_count": 1,
   "metadata": {},
   "outputs": [],
   "source": [
    "from stinespring_t_update_classes import stinespring_unitary_update as stinespring\n",
    "from Stinespring_unitary_circuits import generate_gate_connections\n",
    "import numpy as np\n",
    "from q_lab_toolbox.settings import DecaySettings\n",
    "from q_lab_toolbox.hamiltonians import decay_hamiltonian\n",
    "from q_lab_toolbox.jump_operators import create_jump_operators"
   ]
  },
  {
   "cell_type": "code",
   "execution_count": 2,
   "metadata": {},
   "outputs": [],
   "source": [
    "from decay.settings import settings as s"
   ]
  },
  {
   "cell_type": "code",
   "execution_count": 3,
   "metadata": {},
   "outputs": [],
   "source": [
    "def misc():\n",
    "    # Set initial dictionary with arguments\n",
    "    par_dict = {\n",
    "        \"qubit_structure\": s.qubit_structure,\n",
    "        \"steadystate_weight\": s.steadystate_weight,\n",
    "    }\n",
    "    if s.circuit_type == \"pulse based\":\n",
    "        par_dict.update(\n",
    "            {\n",
    "                \"driving_H_interaction\": s.circuit_settings.driving_H_interaction,\n",
    "                \"control_H\": s.circuit_settings.control_H,\n",
    "                \"T_pulse\": s.circuit_settings.T_pulse,\n",
    "                \"lambdapar\": s.circuit_settings.lambdapar,\n",
    "                \"Zdt\": s.circuit_settings.Zdt,\n",
    "            }\n",
    "        )\n",
    "    else:\n",
    "        par_dict.update(\n",
    "            {\n",
    "                \"n_grad_directions\": s.circuit_settings.n_grad_directions,\n",
    "                \"cutoff\": s.circuit_settings.cutoff,\n",
    "            }\n",
    "        )\n",
    "\n",
    "    # Set entangle gate dictionary\n",
    "    entangle_pars = {\n",
    "        \"t_ryd\": s.circuit_settings.t_ryd,\n",
    "        \"phi\": s.circuit_settings.phi,\n",
    "        \"gammat\": s.circuit_settings.gammat,\n",
    "    }\n",
    "\n",
    "    # Create correct parameter array that will be optimized\n",
    "    theta0 = (\n",
    "        np.ones([s.circuit_settings.depth, 2 * s.m + 1, 3]) * np.pi / 2\n",
    "    )  # Initial theta guess\n",
    "    pars_per_layer = len(\n",
    "        generate_gate_connections(2 * s.m + 1, structure=s.qubit_structure, cutoff=True)\n",
    "    )\n",
    "    gate_par = 0\n",
    "    if s.circuit_type == \"xy\":\n",
    "        phi0 = (\n",
    "            np.ones([s.circuit_settings.depth, pars_per_layer]) * s.circuit_settings.phi\n",
    "        )\n",
    "        gate_par = phi0\n",
    "        theta0 = np.concatenate((np.ravel(theta0), np.ravel(phi0)))\n",
    "    elif s.circuit_type == \"ryd\":\n",
    "        t_ryd0 = (\n",
    "            np.ones(\n",
    "                [\n",
    "                    s.circuit_settings.depth,\n",
    "                ]\n",
    "            )\n",
    "            * s.circuit_settings.t_ryd\n",
    "        )\n",
    "        gate_par = t_ryd0\n",
    "        theta0 = np.concatenate((np.ravel(theta0), np.ravel(t_ryd0)))\n",
    "    elif s.circuit_type == \"decay\":\n",
    "        gammat0 = (\n",
    "            np.ones([s.circuit_settings.depth, pars_per_layer])\n",
    "            * s.circuit_settings.gammat\n",
    "        )\n",
    "        gate_par = s.circuit_settings.gammat0\n",
    "        theta0 = np.concatenate((np.ravel(theta0), np.ravel(gammat0)))\n",
    "    elif s.circuit_type == \"pulse based\":\n",
    "        if \"+11\" in s.circuit_settings.control_H:\n",
    "            n_controls_H = 2 * (2 * s.m + 1)\n",
    "        else:\n",
    "            n_controls_H = 2 * s.m + 1\n",
    "        theta0 = np.zeros((n_controls_H, s.circuit_settings.Zdt, 2)) + 0.02\n",
    "        # =============================================================================\n",
    "        #     theta0[0,:,0] = np.sin(np.linspace(0,T_pulse, Zdt) + np.random.rand()*2*np.pi) *0.1*np.random.rand()\n",
    "        #     theta0[0,:,1] = np.sin(np.linspace(0,T_pulse, Zdt) + np.random.rand()*2*np.pi) *0.1*np.random.rand()\n",
    "        #     theta0[1,:,0] = np.sin(np.linspace(0,T_pulse, Zdt) + np.random.rand()*2*np.pi) *0.1*np.random.rand()\n",
    "        #     theta0[1,:,1] = np.sin(np.linspace(0,T_pulse, Zdt) + np.random.rand()*2*np.pi) *0.1*np.random.rand()\n",
    "        #     theta0[3,:,0] = np.sin(np.linspace(0,T_pulse, Zdt) + np.random.rand()*2*np.pi) *0.1*np.random.rand()\n",
    "        #     theta0[3,:,1] = np.sin(np.linspace(0,T_pulse, Zdt) + np.random.rand()*2*np.pi) *0.1*np.random.rand()\n",
    "        # =============================================================================\n",
    "        theta0 = np.ravel(theta0)\n",
    "    else:\n",
    "        theta0 = np.ravel(theta0)\n",
    "\n",
    "    # Set parameter dictionaries\n",
    "    train_par = {\n",
    "        \"n_training\": s.n_training,\n",
    "        \"seed\": s.seed,\n",
    "        \"depth\": s.circuit_settings.depth,\n",
    "        \"theta0\": theta0,\n",
    "        \"max_it_training\": s.max_it_training,\n",
    "        \"epsilon\": s.epsilon,\n",
    "        \"gamma\": s.gamma,\n",
    "        \"sigmastart\": s.sigmastart,\n",
    "        \"circuit_type\": s.circuit_type,\n",
    "        \"pauli_type\": s.pauli_type,\n",
    "        \"t_repeated\": s.t_repeated,\n",
    "    }\n",
    "\n",
    "    return train_par, par_dict, entangle_pars\n",
    "\n",
    "\n",
    "train_par, par_dict, entangle_pars = misc()"
   ]
  },
  {
   "cell_type": "code",
   "execution_count": 4,
   "metadata": {},
   "outputs": [],
   "source": [
    "stine = stinespring(par_dict=par_dict)"
   ]
  },
  {
   "cell_type": "code",
   "execution_count": 5,
   "metadata": {},
   "outputs": [],
   "source": [
    "target = DecaySettings(\n",
    "    ryd_interaction=0.2, m=2, omegas=(0.3, 0.5), gammas=(0.2, 0.4)\n",
    ")\n",
    "\n",
    "H = decay_hamiltonian(target).full()\n",
    "\n",
    "An = [operator.full() for operator in create_jump_operators(target)]\n",
    "stine.set_original_lindblad(H, An, 0.1)"
   ]
  },
  {
   "cell_type": "code",
   "execution_count": 6,
   "metadata": {},
   "outputs": [],
   "source": [
    "from q_lab_toolbox.unitary_circuits import HardwareAnsatz"
   ]
  },
  {
   "cell_type": "code",
   "execution_count": 7,
   "metadata": {},
   "outputs": [],
   "source": [
    "ha = HardwareAnsatz(m=2, n_qubits=5, depth=5)"
   ]
  },
  {
   "cell_type": "code",
   "execution_count": 8,
   "metadata": {},
   "outputs": [],
   "source": [
    "phi = ha.phi_prime(ha.init_theta())"
   ]
  },
  {
   "cell_type": "code",
   "execution_count": 9,
   "metadata": {},
   "outputs": [],
   "source": [
    "import qutip as qt\n",
    "\n",
    "state00 = qt.Qobj([[1, 0], [0, 0]])\n",
    "ancilla = qt.tensor( [state00 for _ in range(3)] )\n",
    "\n",
    "random_ket = qt.rand_ket_haar(dims=[[2] * 2, [1] * 2], seed=5)\n",
    "random_bra = random_ket.dag()\n",
    "\n",
    "rho = random_ket * random_bra\n",
    "\n",
    "random_ket2 = qt.rand_ket_haar(dims=[[2] * 3, [1] * 3], seed=5)\n",
    "random_bra2 = random_ket2.dag()\n",
    "\n",
    "rho2 = random_ket2 * random_bra2"
   ]
  },
  {
   "cell_type": "code",
   "execution_count": 10,
   "metadata": {},
   "outputs": [],
   "source": [
    "U = phi(rho)"
   ]
  },
  {
   "cell_type": "code",
   "execution_count": 11,
   "metadata": {},
   "outputs": [
    {
     "data": {
      "text/latex": [
       "Quantum object: dims = [[2, 2], [2, 2]], shape = (4, 4), type = oper, isherm = True $ \\\\ \\left(\\begin{matrix}0.045 & (0.029+0.012j) & (-0.016-0.179j) & (0.030-0.096j)\\\\(0.029-0.012j) & 0.021 & (-0.059-0.108j) & (-0.007-0.069j)\\\\(-0.016+0.179j) & (-0.059+0.108j) & 0.710 & (0.367+0.153j)\\\\(0.030+0.096j) & (-0.007+0.069j) & (0.367-0.153j) & 0.223\\\\\\end{matrix}\\right)$"
      ],
      "text/plain": [
       "Quantum object: dims = [[2, 2], [2, 2]], shape = (4, 4), type = oper, isherm = True\n",
       "Qobj data =\n",
       "[[ 0.04523462+0.j          0.02854258+0.01241458j -0.01584032-0.17853504j\n",
       "   0.0303299 -0.09578135j]\n",
       " [ 0.02854258-0.01241458j  0.02141724+0.j         -0.05899377-0.10830645j\n",
       "  -0.00714919-0.06876105j]\n",
       " [-0.01584032+0.17853504j -0.05899377+0.10830645j  0.71020114+0.j\n",
       "   0.36741531+0.15324894j]\n",
       " [ 0.0303299 +0.09578135j -0.00714919+0.06876105j  0.36741531-0.15324894j\n",
       "   0.223147  +0.j        ]]"
      ]
     },
     "execution_count": 11,
     "metadata": {},
     "output_type": "execute_result"
    }
   ],
   "source": [
    "rho"
   ]
  },
  {
   "cell_type": "code",
   "execution_count": 12,
   "metadata": {},
   "outputs": [],
   "source": [
    "from training_data import mk_training_data2\n",
    "from q_lab_toolbox.qubit_readout_operators import create_readout_computational_basis\n",
    "\n",
    "Os = create_readout_computational_basis(target)\n",
    "\n",
    "data = mk_training_data2(rho, 0.1, 3, Os, target)"
   ]
  },
  {
   "cell_type": "code",
   "execution_count": 13,
   "metadata": {},
   "outputs": [
    {
     "data": {
      "text/plain": [
       "0.6369191708673749"
      ]
     },
     "execution_count": 13,
     "metadata": {},
     "output_type": "execute_result"
    }
   ],
   "source": [
    "ha.J(ha.init_theta(), training_data=data)"
   ]
  },
  {
   "cell_type": "code",
   "execution_count": null,
   "metadata": {},
   "outputs": [],
   "source": []
  },
  {
   "cell_type": "code",
   "execution_count": null,
   "metadata": {},
   "outputs": [],
   "source": []
  }
 ],
 "metadata": {
  "kernelspec": {
   "display_name": "venv",
   "language": "python",
   "name": "python3"
  },
  "language_info": {
   "codemirror_mode": {
    "name": "ipython",
    "version": 3
   },
   "file_extension": ".py",
   "mimetype": "text/x-python",
   "name": "python",
   "nbconvert_exporter": "python",
   "pygments_lexer": "ipython3",
   "version": "3.11.5"
  }
 },
 "nbformat": 4,
 "nbformat_minor": 2
}
