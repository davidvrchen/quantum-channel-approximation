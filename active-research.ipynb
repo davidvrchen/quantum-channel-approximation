{
 "cells": [
  {
   "cell_type": "code",
   "execution_count": 26,
   "metadata": {},
   "outputs": [],
   "source": [
    "import numpy as np\n",
    "from Stinespring_unitary_circuits import generate_gate_connections\n",
    "from channels import GateBasedChannel\n",
    "from unitary_circuits import HardwareAnsatz, HardwareAnsatzWithH\n",
    "from error_metrics import PauliTrace"
   ]
  },
  {
   "cell_type": "code",
   "execution_count": 27,
   "metadata": {},
   "outputs": [],
   "source": [
    "from decay.settings import settings as s\n",
    "from decay.settings import target_settings"
   ]
  },
  {
   "cell_type": "code",
   "execution_count": 28,
   "metadata": {},
   "outputs": [],
   "source": [
    "\n",
    "# Set initial dictionary with arguments\n",
    "par_dict = {\n",
    "    \"qubit_structure\": s.qubit_structure,\n",
    "    \"steadystate_weight\": s.steadystate_weight,\n",
    "}\n",
    "if s.circuit_type == \"pulse based\":\n",
    "    par_dict.update(\n",
    "        {\n",
    "            \"driving_H_interaction\": s.circuit_settings.driving_H_interaction,\n",
    "            \"control_H\": s.circuit_settings.control_H,\n",
    "            \"T_pulse\": s.circuit_settings.T_pulse,\n",
    "            \"lambdapar\": s.circuit_settings.lambdapar,\n",
    "            \"Zdt\": s.circuit_settings.Zdt,\n",
    "        }\n",
    "    )\n",
    "else:\n",
    "    par_dict.update(\n",
    "        {\n",
    "            \"n_grad_directions\": s.circuit_settings.n_grad_directions,\n",
    "            \"cutoff\": s.circuit_settings.cutoff,\n",
    "        }\n",
    "    )\n",
    "\n",
    "# Set entangle gate dictionary\n",
    "entangle_pars = {\n",
    "    \"t_ryd\": s.circuit_settings.t_ryd,\n",
    "    \"phi\": s.circuit_settings.phi,\n",
    "    \"gammat\": s.circuit_settings.gammat,\n",
    "}\n",
    "\n",
    "# Create correct parameter array that will be optimized\n",
    "theta0 = (\n",
    "    np.ones([s.circuit_settings.depth, 2 * s.m + 1, 3]) * np.pi / 2\n",
    ")  # Initial theta guess\n",
    "pars_per_layer = len(\n",
    "    generate_gate_connections(2 * s.m + 1, structure=s.qubit_structure, cutoff=True)\n",
    ")\n",
    "gate_par = 0\n",
    "if s.circuit_type == \"xy\":\n",
    "    phi0 = (\n",
    "        np.ones([s.circuit_settings.depth, pars_per_layer]) * s.circuit_settings.phi\n",
    "    )\n",
    "    gate_par = phi0\n",
    "    theta0 = np.concatenate((np.ravel(theta0), np.ravel(phi0)))\n",
    "elif s.circuit_type == \"ryd\":\n",
    "    t_ryd0 = (\n",
    "        np.ones(\n",
    "            [\n",
    "                s.circuit_settings.depth,\n",
    "            ]\n",
    "        )\n",
    "        * s.circuit_settings.t_ryd\n",
    "    )\n",
    "    gate_par = t_ryd0\n",
    "    theta0 = np.concatenate((np.ravel(theta0), np.ravel(t_ryd0)))\n",
    "elif s.circuit_type == \"decay\":\n",
    "    gammat0 = (\n",
    "        np.ones([s.circuit_settings.depth, pars_per_layer])\n",
    "        * s.circuit_settings.gammat\n",
    "    )\n",
    "    gate_par = s.circuit_settings.gammat0\n",
    "    theta0 = np.concatenate((np.ravel(theta0), np.ravel(gammat0)))\n",
    "elif s.circuit_type == \"pulse based\":\n",
    "    if \"+11\" in s.circuit_settings.control_H:\n",
    "        n_controls_H = 2 * (2 * s.m + 1)\n",
    "    else:\n",
    "        n_controls_H = 2 * s.m + 1\n",
    "    theta0 = np.zeros((n_controls_H, s.circuit_settings.Zdt, 2)) + 0.02\n",
    "    # =============================================================================\n",
    "    #     theta0[0,:,0] = np.sin(np.linspace(0,T_pulse, Zdt) + np.random.rand()*2*np.pi) *0.1*np.random.rand()\n",
    "    #     theta0[0,:,1] = np.sin(np.linspace(0,T_pulse, Zdt) + np.random.rand()*2*np.pi) *0.1*np.random.rand()\n",
    "    #     theta0[1,:,0] = np.sin(np.linspace(0,T_pulse, Zdt) + np.random.rand()*2*np.pi) *0.1*np.random.rand()\n",
    "    #     theta0[1,:,1] = np.sin(np.linspace(0,T_pulse, Zdt) + np.random.rand()*2*np.pi) *0.1*np.random.rand()\n",
    "    #     theta0[3,:,0] = np.sin(np.linspace(0,T_pulse, Zdt) + np.random.rand()*2*np.pi) *0.1*np.random.rand()\n",
    "    #     theta0[3,:,1] = np.sin(np.linspace(0,T_pulse, Zdt) + np.random.rand()*2*np.pi) *0.1*np.random.rand()\n",
    "    # =============================================================================\n",
    "    theta0 = np.ravel(theta0)\n",
    "else:\n",
    "    theta0 = np.ravel(theta0)\n",
    "\n",
    "# Set parameter dictionaries\n",
    "train_par = {\n",
    "    \"n_training\": s.n_training,\n",
    "    \"seed\": s.seed,\n",
    "    \"depth\": s.circuit_settings.depth,\n",
    "    \"theta0\": theta0,\n",
    "    \"max_it_training\": s.max_it_training,\n",
    "    \"epsilon\": s.epsilon,\n",
    "    \"gamma\": s.gamma,\n",
    "    \"sigmastart\": s.sigmastart,\n",
    "    \"circuit_type\": s.circuit_type,\n",
    "    \"pauli_type\": s.pauli_type,\n",
    "    \"t_repeated\": s.t_repeated,\n",
    "}"
   ]
  },
  {
   "cell_type": "code",
   "execution_count": 29,
   "metadata": {},
   "outputs": [],
   "source": [
    "pauli_trace = PauliTrace()"
   ]
  },
  {
   "cell_type": "code",
   "execution_count": 30,
   "metadata": {},
   "outputs": [],
   "source": [
    "hardware_ansatz = HardwareAnsatz(m=2, circuit_type=\"ryd\", structure=\"triangle\")"
   ]
  },
  {
   "cell_type": "code",
   "execution_count": 31,
   "metadata": {},
   "outputs": [],
   "source": [
    "phi_prime = GateBasedChannel(m=2, par_dict=par_dict, circuit=hardware_ansatz, error_metric=pauli_trace)"
   ]
  }
 ],
 "metadata": {
  "kernelspec": {
   "display_name": "venv",
   "language": "python",
   "name": "python3"
  },
  "language_info": {
   "codemirror_mode": {
    "name": "ipython",
    "version": 3
   },
   "file_extension": ".py",
   "mimetype": "text/x-python",
   "name": "python",
   "nbconvert_exporter": "python",
   "pygments_lexer": "ipython3",
   "version": "3.11.0"
  }
 },
 "nbformat": 4,
 "nbformat_minor": 2
}
